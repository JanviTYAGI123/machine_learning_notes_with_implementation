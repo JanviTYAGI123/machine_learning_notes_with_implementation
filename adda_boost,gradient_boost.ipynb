{
  "cells": [
    {
      "cell_type": "markdown",
      "id": "dab637fa-8fc8-4db9-be68-11f72f35d1ef",
      "metadata": {
        "id": "dab637fa-8fc8-4db9-be68-11f72f35d1ef"
      },
      "source": [
        "### Problem Statement\n",
        "\n",
        "You are a data scientist / AI engineer working on a binary classification problem. You have been provided with a dataset named **`\"mushroom_classification.csv\"`**, which includes various features of mushrooms to predict whether they are edible or poisonous. The dataset comprises the following columns:\n",
        "\n",
        "- `cap_diameter:` The diameter of the mushroom cap.\n",
        "- `cap_shape:` The shape of the mushroom cap, encoded as integers.\n",
        "- `gill_attachment:` The attachment of the gills, encoded as integers.\n",
        "- `gill_color:` The color of the gills, encoded as integers.\n",
        "- `stem_height:` The height of the mushroom stem.\n",
        "- `stem_width` The width of the mushroom stem.\n",
        "- `stem_color:` The color of the mushroom stem, encoded as integers.\n",
        "- `season:` The season when the mushroom was found, encoded as float.\n",
        "- `class:` The classification of the mushroom, where 0 indicates edible and 1 indicates poisonous.\n",
        "\n",
        "Your task is to use this dataset to build and evaluate a binary classification model to classify mushrooms as edible or poisonous. You will start with basic models and gradually move towards advanced models like Gradient Boosting. Finally, you will explore various parameters of the Gradient Boosting model to enhance performance.\n",
        "\n",
        "**Dataset credits:** Prisha Sawhney (https://www.kaggle.com/datasets/prishasawhney/mushroom-dataset/data)"
      ]
    },
    {
      "cell_type": "markdown",
      "id": "f7bd3443-1dfb-423e-a352-ed4c467635d6",
      "metadata": {
        "id": "f7bd3443-1dfb-423e-a352-ed4c467635d6"
      },
      "source": [
        "**Import Necessary Libraries**"
      ]
    },
    {
      "cell_type": "code",
      "execution_count": 2,
      "id": "16910661-4e73-4474-a003-e7b98a391352",
      "metadata": {
        "id": "16910661-4e73-4474-a003-e7b98a391352"
      },
      "outputs": [],
      "source": [
        "#import necessary libraries\n",
        "\n",
        "import numpy as np\n",
        "import pandas as pd\n",
        "import matplotlib.pyplot as plt\n",
        "import seaborn as sns\n",
        "from sklearn.model_selection import train_test_split\n",
        "from sklearn.linear_model import LogisticRegression\n",
        "from sklearn.tree import DecisionTreeClassifier\n",
        "from sklearn.ensemble  import AdaBoostClassifier\n",
        "from sklearn.ensemble import GradientBoostingClassifier\n",
        "from sklearn.metrics import classification_report"
      ]
    },
    {
      "cell_type": "markdown",
      "id": "7b417318-3bea-4581-a1dc-9f049055a2c3",
      "metadata": {
        "id": "7b417318-3bea-4581-a1dc-9f049055a2c3"
      },
      "source": [
        "### Task 1: Data Preparation and Exploration\n",
        "\n",
        "1. Import the data from the `\"mushroom_classification.csv\"` file and store it in a variable df.\n",
        "2. Display the number of rows and columns in the dataset.\n",
        "3. Display the first few rows of the dataset to get an overview."
      ]
    },
    {
      "cell_type": "code",
      "execution_count": 6,
      "id": "3a63849e-217e-4de0-acf4-b3bafc415424",
      "metadata": {
        "colab": {
          "base_uri": "https://localhost:8080/",
          "height": 206
        },
        "id": "3a63849e-217e-4de0-acf4-b3bafc415424",
        "outputId": "63a42727-f014-4cc7-c432-1547a66443d5"
      },
      "outputs": [
        {
          "output_type": "execute_result",
          "data": {
            "text/plain": [
              "   cap_diameter  cap_shape  gill_attachment  gill_color  stem_height  \\\n",
              "0          1372          2                2          10     3.807467   \n",
              "1          1461          2                2          10     3.807467   \n",
              "2          1371          2                2          10     3.612496   \n",
              "3          1261          6                2          10     3.787572   \n",
              "4          1305          6                2          10     3.711971   \n",
              "\n",
              "   stem_width  stem_color    season  class  \n",
              "0        1545          11  1.804273      1  \n",
              "1        1557          11  1.804273      1  \n",
              "2        1566          11  1.804273      1  \n",
              "3        1566          11  1.804273      1  \n",
              "4        1464          11  0.943195      1  "
            ],
            "text/html": [
              "\n",
              "  <div id=\"df-d428dfb9-10ca-4ad6-93ac-30c10c826aee\" class=\"colab-df-container\">\n",
              "    <div>\n",
              "<style scoped>\n",
              "    .dataframe tbody tr th:only-of-type {\n",
              "        vertical-align: middle;\n",
              "    }\n",
              "\n",
              "    .dataframe tbody tr th {\n",
              "        vertical-align: top;\n",
              "    }\n",
              "\n",
              "    .dataframe thead th {\n",
              "        text-align: right;\n",
              "    }\n",
              "</style>\n",
              "<table border=\"1\" class=\"dataframe\">\n",
              "  <thead>\n",
              "    <tr style=\"text-align: right;\">\n",
              "      <th></th>\n",
              "      <th>cap_diameter</th>\n",
              "      <th>cap_shape</th>\n",
              "      <th>gill_attachment</th>\n",
              "      <th>gill_color</th>\n",
              "      <th>stem_height</th>\n",
              "      <th>stem_width</th>\n",
              "      <th>stem_color</th>\n",
              "      <th>season</th>\n",
              "      <th>class</th>\n",
              "    </tr>\n",
              "  </thead>\n",
              "  <tbody>\n",
              "    <tr>\n",
              "      <th>0</th>\n",
              "      <td>1372</td>\n",
              "      <td>2</td>\n",
              "      <td>2</td>\n",
              "      <td>10</td>\n",
              "      <td>3.807467</td>\n",
              "      <td>1545</td>\n",
              "      <td>11</td>\n",
              "      <td>1.804273</td>\n",
              "      <td>1</td>\n",
              "    </tr>\n",
              "    <tr>\n",
              "      <th>1</th>\n",
              "      <td>1461</td>\n",
              "      <td>2</td>\n",
              "      <td>2</td>\n",
              "      <td>10</td>\n",
              "      <td>3.807467</td>\n",
              "      <td>1557</td>\n",
              "      <td>11</td>\n",
              "      <td>1.804273</td>\n",
              "      <td>1</td>\n",
              "    </tr>\n",
              "    <tr>\n",
              "      <th>2</th>\n",
              "      <td>1371</td>\n",
              "      <td>2</td>\n",
              "      <td>2</td>\n",
              "      <td>10</td>\n",
              "      <td>3.612496</td>\n",
              "      <td>1566</td>\n",
              "      <td>11</td>\n",
              "      <td>1.804273</td>\n",
              "      <td>1</td>\n",
              "    </tr>\n",
              "    <tr>\n",
              "      <th>3</th>\n",
              "      <td>1261</td>\n",
              "      <td>6</td>\n",
              "      <td>2</td>\n",
              "      <td>10</td>\n",
              "      <td>3.787572</td>\n",
              "      <td>1566</td>\n",
              "      <td>11</td>\n",
              "      <td>1.804273</td>\n",
              "      <td>1</td>\n",
              "    </tr>\n",
              "    <tr>\n",
              "      <th>4</th>\n",
              "      <td>1305</td>\n",
              "      <td>6</td>\n",
              "      <td>2</td>\n",
              "      <td>10</td>\n",
              "      <td>3.711971</td>\n",
              "      <td>1464</td>\n",
              "      <td>11</td>\n",
              "      <td>0.943195</td>\n",
              "      <td>1</td>\n",
              "    </tr>\n",
              "  </tbody>\n",
              "</table>\n",
              "</div>\n",
              "    <div class=\"colab-df-buttons\">\n",
              "\n",
              "  <div class=\"colab-df-container\">\n",
              "    <button class=\"colab-df-convert\" onclick=\"convertToInteractive('df-d428dfb9-10ca-4ad6-93ac-30c10c826aee')\"\n",
              "            title=\"Convert this dataframe to an interactive table.\"\n",
              "            style=\"display:none;\">\n",
              "\n",
              "  <svg xmlns=\"http://www.w3.org/2000/svg\" height=\"24px\" viewBox=\"0 -960 960 960\">\n",
              "    <path d=\"M120-120v-720h720v720H120Zm60-500h600v-160H180v160Zm220 220h160v-160H400v160Zm0 220h160v-160H400v160ZM180-400h160v-160H180v160Zm440 0h160v-160H620v160ZM180-180h160v-160H180v160Zm440 0h160v-160H620v160Z\"/>\n",
              "  </svg>\n",
              "    </button>\n",
              "\n",
              "  <style>\n",
              "    .colab-df-container {\n",
              "      display:flex;\n",
              "      gap: 12px;\n",
              "    }\n",
              "\n",
              "    .colab-df-convert {\n",
              "      background-color: #E8F0FE;\n",
              "      border: none;\n",
              "      border-radius: 50%;\n",
              "      cursor: pointer;\n",
              "      display: none;\n",
              "      fill: #1967D2;\n",
              "      height: 32px;\n",
              "      padding: 0 0 0 0;\n",
              "      width: 32px;\n",
              "    }\n",
              "\n",
              "    .colab-df-convert:hover {\n",
              "      background-color: #E2EBFA;\n",
              "      box-shadow: 0px 1px 2px rgba(60, 64, 67, 0.3), 0px 1px 3px 1px rgba(60, 64, 67, 0.15);\n",
              "      fill: #174EA6;\n",
              "    }\n",
              "\n",
              "    .colab-df-buttons div {\n",
              "      margin-bottom: 4px;\n",
              "    }\n",
              "\n",
              "    [theme=dark] .colab-df-convert {\n",
              "      background-color: #3B4455;\n",
              "      fill: #D2E3FC;\n",
              "    }\n",
              "\n",
              "    [theme=dark] .colab-df-convert:hover {\n",
              "      background-color: #434B5C;\n",
              "      box-shadow: 0px 1px 3px 1px rgba(0, 0, 0, 0.15);\n",
              "      filter: drop-shadow(0px 1px 2px rgba(0, 0, 0, 0.3));\n",
              "      fill: #FFFFFF;\n",
              "    }\n",
              "  </style>\n",
              "\n",
              "    <script>\n",
              "      const buttonEl =\n",
              "        document.querySelector('#df-d428dfb9-10ca-4ad6-93ac-30c10c826aee button.colab-df-convert');\n",
              "      buttonEl.style.display =\n",
              "        google.colab.kernel.accessAllowed ? 'block' : 'none';\n",
              "\n",
              "      async function convertToInteractive(key) {\n",
              "        const element = document.querySelector('#df-d428dfb9-10ca-4ad6-93ac-30c10c826aee');\n",
              "        const dataTable =\n",
              "          await google.colab.kernel.invokeFunction('convertToInteractive',\n",
              "                                                    [key], {});\n",
              "        if (!dataTable) return;\n",
              "\n",
              "        const docLinkHtml = 'Like what you see? Visit the ' +\n",
              "          '<a target=\"_blank\" href=https://colab.research.google.com/notebooks/data_table.ipynb>data table notebook</a>'\n",
              "          + ' to learn more about interactive tables.';\n",
              "        element.innerHTML = '';\n",
              "        dataTable['output_type'] = 'display_data';\n",
              "        await google.colab.output.renderOutput(dataTable, element);\n",
              "        const docLink = document.createElement('div');\n",
              "        docLink.innerHTML = docLinkHtml;\n",
              "        element.appendChild(docLink);\n",
              "      }\n",
              "    </script>\n",
              "  </div>\n",
              "\n",
              "\n",
              "    <div id=\"df-024234f7-fd09-45c0-8c1c-7a4a2754e54c\">\n",
              "      <button class=\"colab-df-quickchart\" onclick=\"quickchart('df-024234f7-fd09-45c0-8c1c-7a4a2754e54c')\"\n",
              "                title=\"Suggest charts\"\n",
              "                style=\"display:none;\">\n",
              "\n",
              "<svg xmlns=\"http://www.w3.org/2000/svg\" height=\"24px\"viewBox=\"0 0 24 24\"\n",
              "     width=\"24px\">\n",
              "    <g>\n",
              "        <path d=\"M19 3H5c-1.1 0-2 .9-2 2v14c0 1.1.9 2 2 2h14c1.1 0 2-.9 2-2V5c0-1.1-.9-2-2-2zM9 17H7v-7h2v7zm4 0h-2V7h2v10zm4 0h-2v-4h2v4z\"/>\n",
              "    </g>\n",
              "</svg>\n",
              "      </button>\n",
              "\n",
              "<style>\n",
              "  .colab-df-quickchart {\n",
              "      --bg-color: #E8F0FE;\n",
              "      --fill-color: #1967D2;\n",
              "      --hover-bg-color: #E2EBFA;\n",
              "      --hover-fill-color: #174EA6;\n",
              "      --disabled-fill-color: #AAA;\n",
              "      --disabled-bg-color: #DDD;\n",
              "  }\n",
              "\n",
              "  [theme=dark] .colab-df-quickchart {\n",
              "      --bg-color: #3B4455;\n",
              "      --fill-color: #D2E3FC;\n",
              "      --hover-bg-color: #434B5C;\n",
              "      --hover-fill-color: #FFFFFF;\n",
              "      --disabled-bg-color: #3B4455;\n",
              "      --disabled-fill-color: #666;\n",
              "  }\n",
              "\n",
              "  .colab-df-quickchart {\n",
              "    background-color: var(--bg-color);\n",
              "    border: none;\n",
              "    border-radius: 50%;\n",
              "    cursor: pointer;\n",
              "    display: none;\n",
              "    fill: var(--fill-color);\n",
              "    height: 32px;\n",
              "    padding: 0;\n",
              "    width: 32px;\n",
              "  }\n",
              "\n",
              "  .colab-df-quickchart:hover {\n",
              "    background-color: var(--hover-bg-color);\n",
              "    box-shadow: 0 1px 2px rgba(60, 64, 67, 0.3), 0 1px 3px 1px rgba(60, 64, 67, 0.15);\n",
              "    fill: var(--button-hover-fill-color);\n",
              "  }\n",
              "\n",
              "  .colab-df-quickchart-complete:disabled,\n",
              "  .colab-df-quickchart-complete:disabled:hover {\n",
              "    background-color: var(--disabled-bg-color);\n",
              "    fill: var(--disabled-fill-color);\n",
              "    box-shadow: none;\n",
              "  }\n",
              "\n",
              "  .colab-df-spinner {\n",
              "    border: 2px solid var(--fill-color);\n",
              "    border-color: transparent;\n",
              "    border-bottom-color: var(--fill-color);\n",
              "    animation:\n",
              "      spin 1s steps(1) infinite;\n",
              "  }\n",
              "\n",
              "  @keyframes spin {\n",
              "    0% {\n",
              "      border-color: transparent;\n",
              "      border-bottom-color: var(--fill-color);\n",
              "      border-left-color: var(--fill-color);\n",
              "    }\n",
              "    20% {\n",
              "      border-color: transparent;\n",
              "      border-left-color: var(--fill-color);\n",
              "      border-top-color: var(--fill-color);\n",
              "    }\n",
              "    30% {\n",
              "      border-color: transparent;\n",
              "      border-left-color: var(--fill-color);\n",
              "      border-top-color: var(--fill-color);\n",
              "      border-right-color: var(--fill-color);\n",
              "    }\n",
              "    40% {\n",
              "      border-color: transparent;\n",
              "      border-right-color: var(--fill-color);\n",
              "      border-top-color: var(--fill-color);\n",
              "    }\n",
              "    60% {\n",
              "      border-color: transparent;\n",
              "      border-right-color: var(--fill-color);\n",
              "    }\n",
              "    80% {\n",
              "      border-color: transparent;\n",
              "      border-right-color: var(--fill-color);\n",
              "      border-bottom-color: var(--fill-color);\n",
              "    }\n",
              "    90% {\n",
              "      border-color: transparent;\n",
              "      border-bottom-color: var(--fill-color);\n",
              "    }\n",
              "  }\n",
              "</style>\n",
              "\n",
              "      <script>\n",
              "        async function quickchart(key) {\n",
              "          const quickchartButtonEl =\n",
              "            document.querySelector('#' + key + ' button');\n",
              "          quickchartButtonEl.disabled = true;  // To prevent multiple clicks.\n",
              "          quickchartButtonEl.classList.add('colab-df-spinner');\n",
              "          try {\n",
              "            const charts = await google.colab.kernel.invokeFunction(\n",
              "                'suggestCharts', [key], {});\n",
              "          } catch (error) {\n",
              "            console.error('Error during call to suggestCharts:', error);\n",
              "          }\n",
              "          quickchartButtonEl.classList.remove('colab-df-spinner');\n",
              "          quickchartButtonEl.classList.add('colab-df-quickchart-complete');\n",
              "        }\n",
              "        (() => {\n",
              "          let quickchartButtonEl =\n",
              "            document.querySelector('#df-024234f7-fd09-45c0-8c1c-7a4a2754e54c button');\n",
              "          quickchartButtonEl.style.display =\n",
              "            google.colab.kernel.accessAllowed ? 'block' : 'none';\n",
              "        })();\n",
              "      </script>\n",
              "    </div>\n",
              "\n",
              "    </div>\n",
              "  </div>\n"
            ],
            "application/vnd.google.colaboratory.intrinsic+json": {
              "type": "dataframe",
              "variable_name": "df",
              "summary": "{\n  \"name\": \"df\",\n  \"rows\": 54035,\n  \"fields\": [\n    {\n      \"column\": \"cap_diameter\",\n      \"properties\": {\n        \"dtype\": \"number\",\n        \"std\": 359,\n        \"min\": 0,\n        \"max\": 1891,\n        \"num_unique_values\": 1847,\n        \"samples\": [\n          11,\n          1677,\n          44\n        ],\n        \"semantic_type\": \"\",\n        \"description\": \"\"\n      }\n    },\n    {\n      \"column\": \"cap_shape\",\n      \"properties\": {\n        \"dtype\": \"number\",\n        \"std\": 2,\n        \"min\": 0,\n        \"max\": 6,\n        \"num_unique_values\": 7,\n        \"samples\": [\n          2,\n          6,\n          5\n        ],\n        \"semantic_type\": \"\",\n        \"description\": \"\"\n      }\n    },\n    {\n      \"column\": \"gill_attachment\",\n      \"properties\": {\n        \"dtype\": \"number\",\n        \"std\": 2,\n        \"min\": 0,\n        \"max\": 6,\n        \"num_unique_values\": 7,\n        \"samples\": [\n          2,\n          0,\n          4\n        ],\n        \"semantic_type\": \"\",\n        \"description\": \"\"\n      }\n    },\n    {\n      \"column\": \"gill_color\",\n      \"properties\": {\n        \"dtype\": \"number\",\n        \"std\": 3,\n        \"min\": 0,\n        \"max\": 11,\n        \"num_unique_values\": 12,\n        \"samples\": [\n          4,\n          6,\n          10\n        ],\n        \"semantic_type\": \"\",\n        \"description\": \"\"\n      }\n    },\n    {\n      \"column\": \"stem_height\",\n      \"properties\": {\n        \"dtype\": \"number\",\n        \"std\": 0.6509686159314613,\n        \"min\": 0.000425697,\n        \"max\": 3.835319677,\n        \"num_unique_values\": 1455,\n        \"samples\": [\n          0.004404686,\n          1.826781638,\n          1.396199434\n        ],\n        \"semantic_type\": \"\",\n        \"description\": \"\"\n      }\n    },\n    {\n      \"column\": \"stem_width\",\n      \"properties\": {\n        \"dtype\": \"number\",\n        \"std\": 782,\n        \"min\": 0,\n        \"max\": 3569,\n        \"num_unique_values\": 3510,\n        \"samples\": [\n          3028,\n          1505,\n          3516\n        ],\n        \"semantic_type\": \"\",\n        \"description\": \"\"\n      }\n    },\n    {\n      \"column\": \"stem_color\",\n      \"properties\": {\n        \"dtype\": \"number\",\n        \"std\": 3,\n        \"min\": 0,\n        \"max\": 12,\n        \"num_unique_values\": 13,\n        \"samples\": [\n          7,\n          4,\n          11\n        ],\n        \"semantic_type\": \"\",\n        \"description\": \"\"\n      }\n    },\n    {\n      \"column\": \"season\",\n      \"properties\": {\n        \"dtype\": \"number\",\n        \"std\": 0.305593586007356,\n        \"min\": 0.027372133,\n        \"max\": 1.804272709,\n        \"num_unique_values\": 4,\n        \"samples\": [\n          0.943194554,\n          0.027372133,\n          1.804272709\n        ],\n        \"semantic_type\": \"\",\n        \"description\": \"\"\n      }\n    },\n    {\n      \"column\": \"class\",\n      \"properties\": {\n        \"dtype\": \"number\",\n        \"std\": 0,\n        \"min\": 0,\n        \"max\": 1,\n        \"num_unique_values\": 2,\n        \"samples\": [\n          0,\n          1\n        ],\n        \"semantic_type\": \"\",\n        \"description\": \"\"\n      }\n    }\n  ]\n}"
            }
          },
          "metadata": {},
          "execution_count": 6
        }
      ],
      "source": [
        "# Step 1: Import the data from the \"mushroom_classification.csv\" file and store it in a variable 'df'\n",
        "\n",
        "df=pd.read_csv(\"/content/mushroom_classification.csv\")\n",
        "# Step 2: Display the number of rows and columns in the dataset\n",
        "df.shape\n",
        "# Step 3: Display the first few rows of the dataset to get an overview\n",
        "df.head()"
      ]
    },
    {
      "cell_type": "markdown",
      "id": "155cd929-a553-4a27-9cc0-7ee4115bcfea",
      "metadata": {
        "id": "155cd929-a553-4a27-9cc0-7ee4115bcfea"
      },
      "source": [
        "### Task 2: Exploratory Data Analysis (EDA)\n",
        "\n",
        "1. Perform a group-by operation on the target class and calculate the mean of the following features: `cap_diameter, stem_height, and stem_width`.\n",
        "2. Visualize the distribution of these features using box plots."
      ]
    },
    {
      "cell_type": "code",
      "execution_count": 8,
      "id": "fa0539e2-7d51-4c43-8831-4484fc0b13b4",
      "metadata": {
        "colab": {
          "base_uri": "https://localhost:8080/",
          "height": 178
        },
        "id": "fa0539e2-7d51-4c43-8831-4484fc0b13b4",
        "outputId": "1de2b9be-60de-4e5b-a541-0937e2ac0c39"
      },
      "outputs": [
        {
          "output_type": "execute_result",
          "data": {
            "text/plain": [
              "class\n",
              "0    0.627374\n",
              "1    0.867251\n",
              "Name: stem_height, dtype: float64"
            ],
            "text/html": [
              "<div>\n",
              "<style scoped>\n",
              "    .dataframe tbody tr th:only-of-type {\n",
              "        vertical-align: middle;\n",
              "    }\n",
              "\n",
              "    .dataframe tbody tr th {\n",
              "        vertical-align: top;\n",
              "    }\n",
              "\n",
              "    .dataframe thead th {\n",
              "        text-align: right;\n",
              "    }\n",
              "</style>\n",
              "<table border=\"1\" class=\"dataframe\">\n",
              "  <thead>\n",
              "    <tr style=\"text-align: right;\">\n",
              "      <th></th>\n",
              "      <th>stem_height</th>\n",
              "    </tr>\n",
              "    <tr>\n",
              "      <th>class</th>\n",
              "      <th></th>\n",
              "    </tr>\n",
              "  </thead>\n",
              "  <tbody>\n",
              "    <tr>\n",
              "      <th>0</th>\n",
              "      <td>0.627374</td>\n",
              "    </tr>\n",
              "    <tr>\n",
              "      <th>1</th>\n",
              "      <td>0.867251</td>\n",
              "    </tr>\n",
              "  </tbody>\n",
              "</table>\n",
              "</div><br><label><b>dtype:</b> float64</label>"
            ]
          },
          "metadata": {},
          "execution_count": 8
        }
      ],
      "source": [
        "# Step 1: Perform a group-by operation on the target class and calculate the mean of specific features\n",
        "df.groupby(\"class\").mean()['cap_diameter']\n",
        "df.groupby(\"class\").mean()['stem_height']\n"
      ]
    },
    {
      "cell_type": "code",
      "execution_count": 10,
      "id": "800d3c15-32bf-4a3c-b0c2-59d2078d0fc0",
      "metadata": {
        "colab": {
          "base_uri": "https://localhost:8080/",
          "height": 467
        },
        "id": "800d3c15-32bf-4a3c-b0c2-59d2078d0fc0",
        "outputId": "de8e0681-15e2-4c2e-86e6-d7f7a61ccf38"
      },
      "outputs": [
        {
          "output_type": "execute_result",
          "data": {
            "text/plain": [
              "<Axes: xlabel='cap_diameter'>"
            ]
          },
          "metadata": {},
          "execution_count": 10
        },
        {
          "output_type": "display_data",
          "data": {
            "text/plain": [
              "<Figure size 640x480 with 1 Axes>"
            ],
            "image/png": "[encoded data removed]"
          },
          "metadata": {}
        }
      ],
      "source": [
        "# Step 2: Visualize the distribution of these features using box plots\n",
        "sns.boxplot(x=df['cap_diameter'])\n"
      ]
    },
    {
      "cell_type": "code",
      "source": [
        "sns.boxplot(x=df['stem_height'])"
      ],
      "metadata": {
        "colab": {
          "base_uri": "https://localhost:8080/",
          "height": 467
        },
        "id": "xmJFIu32MI8X",
        "outputId": "1af4b244-6b89-49e2-cb39-75c1fe51cf16"
      },
      "id": "xmJFIu32MI8X",
      "execution_count": 11,
      "outputs": [
        {
          "output_type": "execute_result",
          "data": {
            "text/plain": [
              "<Axes: xlabel='stem_height'>"
            ]
          },
          "metadata": {},
          "execution_count": 11
        },
        {
          "output_type": "display_data",
          "data": {
            "text/plain": [
              "<Figure size 640x480 with 1 Axes>"
            ],
            "image/png": "[encoded data removed]"
          },
          "metadata": {}
        }
      ]
    },
    {
      "cell_type": "markdown",
      "id": "2d2ab061-c25f-4441-adb0-19f0ddebfaa8",
      "metadata": {
        "id": "2d2ab061-c25f-4441-adb0-19f0ddebfaa8"
      },
      "source": [
        "### Task 3: Model Training Using Basic Models\n",
        "\n",
        "1. Select the features `(cap_diameter, cap_shape, gill_attachment, gill_color, stem_height, stem_width, stem_color, season)` and the target variable `(class)` for modeling.\n",
        "2. Split the data into training and test sets with a test size of 25%.\n",
        "3. Initialize and train a Logistic Regression model using the training data.\n",
        "4. Make predictions on the test set using the trained model.\n",
        "5. Evaluate the model using a classification report and print the report.\n",
        "6. Initialize and train a Decision Tree Classifier model using the training data.\n",
        "7. Make predictions on the test set using the trained model.\n",
        "8. Evaluate the model using a classification report and print the report."
      ]
    },
    {
      "cell_type": "code",
      "execution_count": 14,
      "id": "ca28e050-af95-48a0-8e69-c59e438a37e4",
      "metadata": {
        "id": "ca28e050-af95-48a0-8e69-c59e438a37e4"
      },
      "outputs": [],
      "source": [
        "from re import X\n",
        "# Step 1: Select the features and target variable for modeling\n",
        "X=df[['cap_diameter','cap_shape','gill_attachment','gill_color','stem_height','stem_width','stem_color','season']]\n",
        "y=df['class']\n",
        "# Step 2: Split the data into training and test sets with a test size of 25%\n",
        "X_train,X_test,y_train,y_test=train_test_split(X,y,test_size=0.25,random_state=42)"
      ]
    },
    {
      "cell_type": "code",
      "execution_count": 17,
      "id": "5802ce9b-2018-43ed-9869-0bec1077405b",
      "metadata": {
        "colab": {
          "base_uri": "https://localhost:8080/"
        },
        "id": "5802ce9b-2018-43ed-9869-0bec1077405b",
        "outputId": "c9b4aeba-c9eb-43c4-8d39-1f811c5a3705"
      },
      "outputs": [
        {
          "output_type": "stream",
          "name": "stdout",
          "text": [
            "              precision    recall  f1-score   support\n",
            "\n",
            "           0       0.61      0.55      0.58      6130\n",
            "           1       0.66      0.71      0.68      7379\n",
            "\n",
            "    accuracy                           0.64     13509\n",
            "   macro avg       0.63      0.63      0.63     13509\n",
            "weighted avg       0.64      0.64      0.64     13509\n",
            "\n"
          ]
        },
        {
          "output_type": "stream",
          "name": "stderr",
          "text": [
            "/usr/local/lib/python3.12/dist-packages/sklearn/linear_model/_logistic.py:465: ConvergenceWarning: lbfgs failed to converge (status=1):\n",
            "STOP: TOTAL NO. OF ITERATIONS REACHED LIMIT.\n",
            "\n",
            "Increase the number of iterations (max_iter) or scale the data as shown in:\n",
            "    https://scikit-learn.org/stable/modules/preprocessing.html\n",
            "Please also refer to the documentation for alternative solver options:\n",
            "    https://scikit-learn.org/stable/modules/linear_model.html#logistic-regression\n",
            "  n_iter_i = _check_optimize_result(\n"
          ]
        }
      ],
      "source": [
        "# Step 3: Initialize and train a Logistic Regression model using the training data\n",
        "model_selection=LogisticRegression()\n",
        "model_selection.fit(X_train,y_train)\n",
        "\n",
        "# Step 4: Make predictions on the test set using the trained model\n",
        "model_selection.predict(X_test)\n",
        "\n",
        "# Step 5: Evaluate the model using a classification report and print the report\n",
        "print(classification_report(y_test,model_selection.predict(X_test)))"
      ]
    },
    {
      "cell_type": "code",
      "execution_count": 20,
      "id": "f0ee4a78-b5e3-4872-8b59-9ec37d508b74",
      "metadata": {
        "colab": {
          "base_uri": "https://localhost:8080/"
        },
        "id": "f0ee4a78-b5e3-4872-8b59-9ec37d508b74",
        "outputId": "5b7d5a0b-0246-441d-cf62-b56166fba3a3"
      },
      "outputs": [
        {
          "output_type": "stream",
          "name": "stdout",
          "text": [
            "              precision    recall  f1-score   support\n",
            "\n",
            "           0       0.97      0.97      0.97      6130\n",
            "           1       0.98      0.98      0.98      7379\n",
            "\n",
            "    accuracy                           0.98     13509\n",
            "   macro avg       0.98      0.98      0.98     13509\n",
            "weighted avg       0.98      0.98      0.98     13509\n",
            "\n"
          ]
        }
      ],
      "source": [
        "# Step 6: Initialize and train a Decision Tree Classifier model using the training data\n",
        "model_selection=DecisionTreeClassifier()\n",
        "model_selection.fit(X_train,y_train)\n",
        "# Step 7: Make predictions on the test set using the trained model\n",
        "\n",
        "model_selection.predict(X_test)\n",
        "# Step 8: Evaluate the model using a classification report and print the report\n",
        "\n",
        "print(classification_report(y_test,model_selection.predict(X_test)))"
      ]
    },
    {
      "cell_type": "markdown",
      "source": [
        "ADABOOST_CLASSIFIER"
      ],
      "metadata": {
        "id": "XXoBKCbQNDTf"
      },
      "id": "XXoBKCbQNDTf"
    },
    {
      "cell_type": "code",
      "source": [
        "model_selection=AdaBoostClassifier()\n",
        "model_selection.fit(X_train,y_train)\n",
        "model_selection.predict(X_test)\n",
        "print(classification_report(y_test,model_selection.predict(X_test)))"
      ],
      "metadata": {
        "colab": {
          "base_uri": "https://localhost:8080/"
        },
        "id": "ZnQQx6UZNDA0",
        "outputId": "797d62f8-ebba-4ae2-9274-e92cdff8df50"
      },
      "id": "ZnQQx6UZNDA0",
      "execution_count": 21,
      "outputs": [
        {
          "output_type": "stream",
          "name": "stdout",
          "text": [
            "              precision    recall  f1-score   support\n",
            "\n",
            "           0       0.68      0.60      0.64      6130\n",
            "           1       0.70      0.76      0.73      7379\n",
            "\n",
            "    accuracy                           0.69     13509\n",
            "   macro avg       0.69      0.68      0.68     13509\n",
            "weighted avg       0.69      0.69      0.69     13509\n",
            "\n"
          ]
        }
      ]
    },
    {
      "cell_type": "markdown",
      "id": "e8bf4ec0-b8d5-41da-b636-5f06b0b66a2d",
      "metadata": {
        "id": "e8bf4ec0-b8d5-41da-b636-5f06b0b66a2d"
      },
      "source": [
        "### Task 4: Model Training Using Gradient Boosting Classifier\n",
        "\n",
        "1. Initialize and train a Gradient Boosting Classifier model using the training data.\n",
        "2. Make predictions on the test set using the trained model.\n",
        "3. Evaluate the model using a classification report and print the report.\n",
        "4. Calculate and display the feature importances."
      ]
    },
    {
      "cell_type": "code",
      "execution_count": 24,
      "id": "242e67dd-e3e9-444b-a6e7-5352767cc229",
      "metadata": {
        "colab": {
          "base_uri": "https://localhost:8080/"
        },
        "id": "242e67dd-e3e9-444b-a6e7-5352767cc229",
        "outputId": "d2590885-cb3c-4047-c038-86d8c33ce681"
      },
      "outputs": [
        {
          "output_type": "stream",
          "name": "stdout",
          "text": [
            "              precision    recall  f1-score   support\n",
            "\n",
            "           0       0.87      0.87      0.87      6130\n",
            "           1       0.89      0.89      0.89      7379\n",
            "\n",
            "    accuracy                           0.88     13509\n",
            "   macro avg       0.88      0.88      0.88     13509\n",
            "weighted avg       0.88      0.88      0.88     13509\n",
            "\n"
          ]
        }
      ],
      "source": [
        "# Step 1: Initialize and train a Gradient Boosting Classifier model using the training data\n",
        "model_selection=GradientBoostingClassifier()\n",
        "model_selection.fit(X_train,y_train)\n",
        "\n",
        "# Step 2: Make predictions on the test set using the trained model\n",
        "\n",
        "model_selection.predict(X_test)\n",
        "# Step 3: Evaluate the model using a classification report and print the report\n",
        "print(classification_report(y_test,model_selection.predict(X_test)))\n"
      ]
    },
    {
      "cell_type": "code",
      "execution_count": 25,
      "id": "05020492-f728-4a92-bd2b-5b5e30413738",
      "metadata": {
        "colab": {
          "base_uri": "https://localhost:8080/"
        },
        "id": "05020492-f728-4a92-bd2b-5b5e30413738",
        "outputId": "7afd1538-0148-4b3c-910b-4a920d9ba7b6"
      },
      "outputs": [
        {
          "output_type": "execute_result",
          "data": {
            "text/plain": [
              "array([0.05125316, 0.11773395, 0.16138186, 0.10157453, 0.13797578,\n",
              "       0.25234022, 0.1360392 , 0.0417013 ])"
            ]
          },
          "metadata": {},
          "execution_count": 25
        }
      ],
      "source": [
        "# Step 4: Calculate and display the feature importances\n",
        "model_selection.feature_importances_"
      ]
    },
    {
      "cell_type": "markdown",
      "id": "2dc96c15-d72c-4a4c-9c40-9ae93a41de00",
      "metadata": {
        "id": "2dc96c15-d72c-4a4c-9c40-9ae93a41de00"
      },
      "source": [
        "### Task 5: Exploring Various Parameters in Gradient Boosting Classifier\n",
        "\n",
        "1. Train a Gradient Boosting model with the following parameters:\n",
        "    - learning_rate = 0.05\n",
        "    - n_estimators = 150\n",
        "    - max_depth=4\n",
        "    - min_samples_split = 3\n",
        "    - min_samples_leaf = 2\n",
        "\n",
        "Learn about these parameters here: [scikit-learn GradientBoostingClassifier Parameters](https://scikit-learn.org/stable/modules/generated/sklearn.ensemble.GradientBoostingClassifier.html)\n",
        "\n",
        "-------------------------------------------------------------------------------------------------------------------------------------------------------\n",
        "2. Evaluate the model using a classification report and print the report."
      ]
    },
    {
      "cell_type": "code",
      "execution_count": 33,
      "id": "56402d3f-b721-4c94-bc8b-a724b27a5b36",
      "metadata": {
        "colab": {
          "base_uri": "https://localhost:8080/"
        },
        "id": "56402d3f-b721-4c94-bc8b-a724b27a5b36",
        "outputId": "abcf4365-0ca0-4651-b50a-b832ee29369e"
      },
      "outputs": [
        {
          "output_type": "stream",
          "name": "stdout",
          "text": [
            "              precision    recall  f1-score   support\n",
            "\n",
            "           0       0.90      0.93      0.91      6130\n",
            "           1       0.94      0.91      0.93      7379\n",
            "\n",
            "    accuracy                           0.92     13509\n",
            "   macro avg       0.92      0.92      0.92     13509\n",
            "weighted avg       0.92      0.92      0.92     13509\n",
            "\n"
          ]
        }
      ],
      "source": [
        "# Step 1: Train a Gradient Boosting model with specified parameters\n",
        "model_selection=GradientBoostingClassifier(learning_rate=0.05,n_estimators=200,max_depth=4,min_samples_split=3,min_samples_leaf=2)\n",
        "model_selection.fit(X_train,y_train)\n",
        "# Step 2: Make predictions on the test set using the trained model\n",
        "\n",
        "model_selection.predict(X_test)\n",
        "# Step 3: Evaluate the model using a classification report and print the report\n",
        "print(classification_report(y_test,model_selection.predict(X_test)))"
      ]
    },
    {
      "cell_type": "code",
      "source": [],
      "metadata": {
        "id": "iKzEZMN4Nwyh"
      },
      "id": "iKzEZMN4Nwyh",
      "execution_count": null,
      "outputs": []
    }
  ],
  "metadata": {
    "kernelspec": {
      "display_name": "Python 3 (ipykernel)",
      "language": "python",
      "name": "python3"
    },
    "language_info": {
      "codemirror_mode": {
        "name": "ipython",
        "version": 3
      },
      "file_extension": ".py",
      "mimetype": "text/x-python",
      "name": "python",
      "nbconvert_exporter": "python",
      "pygments_lexer": "ipython3",
      "version": "3.10.11"
    },
    "colab": {
      "provenance": []
    }
  },
  "nbformat": 4,
  "nbformat_minor": 5
}