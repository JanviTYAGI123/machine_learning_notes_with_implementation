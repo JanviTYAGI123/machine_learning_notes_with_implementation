{
  "cells": [
    {
      "cell_type": "markdown",
      "id": "dba33c53-92e9-4d50-b46b-52a9a5f2ced0",
      "metadata": {
        "id": "dba33c53-92e9-4d50-b46b-52a9a5f2ced0"
      },
      "source": [
        "### Problem Statement\n",
        "\n",
        "You are a data scientist / AI engineer working on a binary classification problem. You have been provided with a dataset named **`\"social_network_ads.csv\"`**, which includes information about users' age, gender, estimated salary, and whether they purchased a product or not. The dataset comprises the following columns:\n",
        "\n",
        "- `user_id:` The unique identifier for each user.\n",
        "- `gender:` The gender of the user.\n",
        "- `age:` The age of the user.\n",
        "- `estimated_salary:` The estimated salary of the user.\n",
        "- `purchased:` Whether the user purchased the product or not (0 for No, 1 for Yes).\n",
        "  \n",
        "Your task is to use this dataset to build and evaluate a logistic regression model to predict whether a user will purchase the product based on their age, gender and estimated salary. You will also evaluate the model's performance using precision, recall, and other classification metrics.\n",
        "\n",
        "**Dataset credits:** Akram (https://www.kaggle.com/datasets/akram24/social-network-ads)"
      ]
    },
    {
      "cell_type": "markdown",
      "id": "2af9e8a8-dc96-437b-9603-17ba28451daa",
      "metadata": {
        "id": "2af9e8a8-dc96-437b-9603-17ba28451daa"
      },
      "source": [
        "**Import Necessary Libraries**"
      ]
    },
    {
      "cell_type": "code",
      "execution_count": 22,
      "id": "795f5f5e-8cf1-4097-9d52-e579473995d7",
      "metadata": {
        "id": "795f5f5e-8cf1-4097-9d52-e579473995d7"
      },
      "outputs": [],
      "source": [
        "#Import Necessary Libraries\n",
        "\n",
        "import numpy as np\n",
        "import pandas as pd\n",
        "import matplotlib.pyplot as plt\n",
        "import seaborn as sns\n",
        "from sklearn.model_selection import train_test_split\n",
        "from sklearn.linear_model import LogisticRegression\n",
        "from sklearn.metrics import classification_report, confusion_matrix"
      ]
    },
    {
      "cell_type": "markdown",
      "id": "c65dbf83-4cd3-4faf-8c7d-160ff41bb171",
      "metadata": {
        "id": "c65dbf83-4cd3-4faf-8c7d-160ff41bb171"
      },
      "source": [
        "### Task 1: Data Preparation and Exploration\n",
        "\n",
        "1. Import the data from the `\"social_network_ads.csv\"` file and store it in a variable df.\n",
        "2. Display the number of rows and columns in the dataset.\n",
        "3. Display the first few rows of the dataset to get an overview.\n",
        "4. Check for any missing values in the dataset and handle them appropriately.\n",
        "5. Visualize the distribution of users' age and estimated salary using scatter plots."
      ]
    },
    {
      "cell_type": "code",
      "execution_count": 23,
      "id": "af453a2b-9c2a-49f3-8c52-8da3bb5e94ac",
      "metadata": {
        "colab": {
          "base_uri": "https://localhost:8080/",
          "height": 206
        },
        "id": "af453a2b-9c2a-49f3-8c52-8da3bb5e94ac",
        "outputId": "1daaf869-ae22-44a9-ffe3-97fc720fbd3e"
      },
      "outputs": [
        {
          "output_type": "execute_result",
          "data": {
            "text/plain": [
              "      user_id  gender  age  estimated_salary  purchased\n",
              "135  15578006    Male   23             63000          0\n",
              "199  15708228    Male   35             22000          0\n",
              "359  15709183    Male   42             54000          0\n",
              "342  15717560  Female   38             65000          0\n",
              "75   15651983    Male   34            112000          1"
            ],
            "text/html": [
              "\n",
              "  <div id=\"df-88669796-a57e-4da3-ba5d-47b9bb800134\" class=\"colab-df-container\">\n",
              "    <div>\n",
              "<style scoped>\n",
              "    .dataframe tbody tr th:only-of-type {\n",
              "        vertical-align: middle;\n",
              "    }\n",
              "\n",
              "    .dataframe tbody tr th {\n",
              "        vertical-align: top;\n",
              "    }\n",
              "\n",
              "    .dataframe thead th {\n",
              "        text-align: right;\n",
              "    }\n",
              "</style>\n",
              "<table border=\"1\" class=\"dataframe\">\n",
              "  <thead>\n",
              "    <tr style=\"text-align: right;\">\n",
              "      <th></th>\n",
              "      <th>user_id</th>\n",
              "      <th>gender</th>\n",
              "      <th>age</th>\n",
              "      <th>estimated_salary</th>\n",
              "      <th>purchased</th>\n",
              "    </tr>\n",
              "  </thead>\n",
              "  <tbody>\n",
              "    <tr>\n",
              "      <th>135</th>\n",
              "      <td>15578006</td>\n",
              "      <td>Male</td>\n",
              "      <td>23</td>\n",
              "      <td>63000</td>\n",
              "      <td>0</td>\n",
              "    </tr>\n",
              "    <tr>\n",
              "      <th>199</th>\n",
              "      <td>15708228</td>\n",
              "      <td>Male</td>\n",
              "      <td>35</td>\n",
              "      <td>22000</td>\n",
              "      <td>0</td>\n",
              "    </tr>\n",
              "    <tr>\n",
              "      <th>359</th>\n",
              "      <td>15709183</td>\n",
              "      <td>Male</td>\n",
              "      <td>42</td>\n",
              "      <td>54000</td>\n",
              "      <td>0</td>\n",
              "    </tr>\n",
              "    <tr>\n",
              "      <th>342</th>\n",
              "      <td>15717560</td>\n",
              "      <td>Female</td>\n",
              "      <td>38</td>\n",
              "      <td>65000</td>\n",
              "      <td>0</td>\n",
              "    </tr>\n",
              "    <tr>\n",
              "      <th>75</th>\n",
              "      <td>15651983</td>\n",
              "      <td>Male</td>\n",
              "      <td>34</td>\n",
              "      <td>112000</td>\n",
              "      <td>1</td>\n",
              "    </tr>\n",
              "  </tbody>\n",
              "</table>\n",
              "</div>\n",
              "    <div class=\"colab-df-buttons\">\n",
              "\n",
              "  <div class=\"colab-df-container\">\n",
              "    <button class=\"colab-df-convert\" onclick=\"convertToInteractive('df-88669796-a57e-4da3-ba5d-47b9bb800134')\"\n",
              "            title=\"Convert this dataframe to an interactive table.\"\n",
              "            style=\"display:none;\">\n",
              "\n",
              "  <svg xmlns=\"http://www.w3.org/2000/svg\" height=\"24px\" viewBox=\"0 -960 960 960\">\n",
              "    <path d=\"M120-120v-720h720v720H120Zm60-500h600v-160H180v160Zm220 220h160v-160H400v160Zm0 220h160v-160H400v160ZM180-400h160v-160H180v160Zm440 0h160v-160H620v160ZM180-180h160v-160H180v160Zm440 0h160v-160H620v160Z\"/>\n",
              "  </svg>\n",
              "    </button>\n",
              "\n",
              "  <style>\n",
              "    .colab-df-container {\n",
              "      display:flex;\n",
              "      gap: 12px;\n",
              "    }\n",
              "\n",
              "    .colab-df-convert {\n",
              "      background-color: #E8F0FE;\n",
              "      border: none;\n",
              "      border-radius: 50%;\n",
              "      cursor: pointer;\n",
              "      display: none;\n",
              "      fill: #1967D2;\n",
              "      height: 32px;\n",
              "      padding: 0 0 0 0;\n",
              "      width: 32px;\n",
              "    }\n",
              "\n",
              "    .colab-df-convert:hover {\n",
              "      background-color: #E2EBFA;\n",
              "      box-shadow: 0px 1px 2px rgba(60, 64, 67, 0.3), 0px 1px 3px 1px rgba(60, 64, 67, 0.15);\n",
              "      fill: #174EA6;\n",
              "    }\n",
              "\n",
              "    .colab-df-buttons div {\n",
              "      margin-bottom: 4px;\n",
              "    }\n",
              "\n",
              "    [theme=dark] .colab-df-convert {\n",
              "      background-color: #3B4455;\n",
              "      fill: #D2E3FC;\n",
              "    }\n",
              "\n",
              "    [theme=dark] .colab-df-convert:hover {\n",
              "      background-color: #434B5C;\n",
              "      box-shadow: 0px 1px 3px 1px rgba(0, 0, 0, 0.15);\n",
              "      filter: drop-shadow(0px 1px 2px rgba(0, 0, 0, 0.3));\n",
              "      fill: #FFFFFF;\n",
              "    }\n",
              "  </style>\n",
              "\n",
              "    <script>\n",
              "      const buttonEl =\n",
              "        document.querySelector('#df-88669796-a57e-4da3-ba5d-47b9bb800134 button.colab-df-convert');\n",
              "      buttonEl.style.display =\n",
              "        google.colab.kernel.accessAllowed ? 'block' : 'none';\n",
              "\n",
              "      async function convertToInteractive(key) {\n",
              "        const element = document.querySelector('#df-88669796-a57e-4da3-ba5d-47b9bb800134');\n",
              "        const dataTable =\n",
              "          await google.colab.kernel.invokeFunction('convertToInteractive',\n",
              "                                                    [key], {});\n",
              "        if (!dataTable) return;\n",
              "\n",
              "        const docLinkHtml = 'Like what you see? Visit the ' +\n",
              "          '<a target=\"_blank\" href=https://colab.research.google.com/notebooks/data_table.ipynb>data table notebook</a>'\n",
              "          + ' to learn more about interactive tables.';\n",
              "        element.innerHTML = '';\n",
              "        dataTable['output_type'] = 'display_data';\n",
              "        await google.colab.output.renderOutput(dataTable, element);\n",
              "        const docLink = document.createElement('div');\n",
              "        docLink.innerHTML = docLinkHtml;\n",
              "        element.appendChild(docLink);\n",
              "      }\n",
              "    </script>\n",
              "  </div>\n",
              "\n",
              "\n",
              "    <div id=\"df-7ed74797-d5c3-4676-b992-a5704aa20bf0\">\n",
              "      <button class=\"colab-df-quickchart\" onclick=\"quickchart('df-7ed74797-d5c3-4676-b992-a5704aa20bf0')\"\n",
              "                title=\"Suggest charts\"\n",
              "                style=\"display:none;\">\n",
              "\n",
              "<svg xmlns=\"http://www.w3.org/2000/svg\" height=\"24px\"viewBox=\"0 0 24 24\"\n",
              "     width=\"24px\">\n",
              "    <g>\n",
              "        <path d=\"M19 3H5c-1.1 0-2 .9-2 2v14c0 1.1.9 2 2 2h14c1.1 0 2-.9 2-2V5c0-1.1-.9-2-2-2zM9 17H7v-7h2v7zm4 0h-2V7h2v10zm4 0h-2v-4h2v4z\"/>\n",
              "    </g>\n",
              "</svg>\n",
              "      </button>\n",
              "\n",
              "<style>\n",
              "  .colab-df-quickchart {\n",
              "      --bg-color: #E8F0FE;\n",
              "      --fill-color: #1967D2;\n",
              "      --hover-bg-color: #E2EBFA;\n",
              "      --hover-fill-color: #174EA6;\n",
              "      --disabled-fill-color: #AAA;\n",
              "      --disabled-bg-color: #DDD;\n",
              "  }\n",
              "\n",
              "  [theme=dark] .colab-df-quickchart {\n",
              "      --bg-color: #3B4455;\n",
              "      --fill-color: #D2E3FC;\n",
              "      --hover-bg-color: #434B5C;\n",
              "      --hover-fill-color: #FFFFFF;\n",
              "      --disabled-bg-color: #3B4455;\n",
              "      --disabled-fill-color: #666;\n",
              "  }\n",
              "\n",
              "  .colab-df-quickchart {\n",
              "    background-color: var(--bg-color);\n",
              "    border: none;\n",
              "    border-radius: 50%;\n",
              "    cursor: pointer;\n",
              "    display: none;\n",
              "    fill: var(--fill-color);\n",
              "    height: 32px;\n",
              "    padding: 0;\n",
              "    width: 32px;\n",
              "  }\n",
              "\n",
              "  .colab-df-quickchart:hover {\n",
              "    background-color: var(--hover-bg-color);\n",
              "    box-shadow: 0 1px 2px rgba(60, 64, 67, 0.3), 0 1px 3px 1px rgba(60, 64, 67, 0.15);\n",
              "    fill: var(--button-hover-fill-color);\n",
              "  }\n",
              "\n",
              "  .colab-df-quickchart-complete:disabled,\n",
              "  .colab-df-quickchart-complete:disabled:hover {\n",
              "    background-color: var(--disabled-bg-color);\n",
              "    fill: var(--disabled-fill-color);\n",
              "    box-shadow: none;\n",
              "  }\n",
              "\n",
              "  .colab-df-spinner {\n",
              "    border: 2px solid var(--fill-color);\n",
              "    border-color: transparent;\n",
              "    border-bottom-color: var(--fill-color);\n",
              "    animation:\n",
              "      spin 1s steps(1) infinite;\n",
              "  }\n",
              "\n",
              "  @keyframes spin {\n",
              "    0% {\n",
              "      border-color: transparent;\n",
              "      border-bottom-color: var(--fill-color);\n",
              "      border-left-color: var(--fill-color);\n",
              "    }\n",
              "    20% {\n",
              "      border-color: transparent;\n",
              "      border-left-color: var(--fill-color);\n",
              "      border-top-color: var(--fill-color);\n",
              "    }\n",
              "    30% {\n",
              "      border-color: transparent;\n",
              "      border-left-color: var(--fill-color);\n",
              "      border-top-color: var(--fill-color);\n",
              "      border-right-color: var(--fill-color);\n",
              "    }\n",
              "    40% {\n",
              "      border-color: transparent;\n",
              "      border-right-color: var(--fill-color);\n",
              "      border-top-color: var(--fill-color);\n",
              "    }\n",
              "    60% {\n",
              "      border-color: transparent;\n",
              "      border-right-color: var(--fill-color);\n",
              "    }\n",
              "    80% {\n",
              "      border-color: transparent;\n",
              "      border-right-color: var(--fill-color);\n",
              "      border-bottom-color: var(--fill-color);\n",
              "    }\n",
              "    90% {\n",
              "      border-color: transparent;\n",
              "      border-bottom-color: var(--fill-color);\n",
              "    }\n",
              "  }\n",
              "</style>\n",
              "\n",
              "      <script>\n",
              "        async function quickchart(key) {\n",
              "          const quickchartButtonEl =\n",
              "            document.querySelector('#' + key + ' button');\n",
              "          quickchartButtonEl.disabled = true;  // To prevent multiple clicks.\n",
              "          quickchartButtonEl.classList.add('colab-df-spinner');\n",
              "          try {\n",
              "            const charts = await google.colab.kernel.invokeFunction(\n",
              "                'suggestCharts', [key], {});\n",
              "          } catch (error) {\n",
              "            console.error('Error during call to suggestCharts:', error);\n",
              "          }\n",
              "          quickchartButtonEl.classList.remove('colab-df-spinner');\n",
              "          quickchartButtonEl.classList.add('colab-df-quickchart-complete');\n",
              "        }\n",
              "        (() => {\n",
              "          let quickchartButtonEl =\n",
              "            document.querySelector('#df-7ed74797-d5c3-4676-b992-a5704aa20bf0 button');\n",
              "          quickchartButtonEl.style.display =\n",
              "            google.colab.kernel.accessAllowed ? 'block' : 'none';\n",
              "        })();\n",
              "      </script>\n",
              "    </div>\n",
              "\n",
              "    </div>\n",
              "  </div>\n"
            ],
            "application/vnd.google.colaboratory.intrinsic+json": {
              "type": "dataframe",
              "summary": "{\n  \"name\": \"df\",\n  \"rows\": 5,\n  \"fields\": [\n    {\n      \"column\": \"user_id\",\n      \"properties\": {\n        \"dtype\": \"number\",\n        \"std\": 59163,\n        \"min\": 15578006,\n        \"max\": 15717560,\n        \"num_unique_values\": 5,\n        \"samples\": [\n          15708228,\n          15651983,\n          15709183\n        ],\n        \"semantic_type\": \"\",\n        \"description\": \"\"\n      }\n    },\n    {\n      \"column\": \"gender\",\n      \"properties\": {\n        \"dtype\": \"category\",\n        \"num_unique_values\": 2,\n        \"samples\": [\n          \"Female\",\n          \"Male\"\n        ],\n        \"semantic_type\": \"\",\n        \"description\": \"\"\n      }\n    },\n    {\n      \"column\": \"age\",\n      \"properties\": {\n        \"dtype\": \"number\",\n        \"std\": 7,\n        \"min\": 23,\n        \"max\": 42,\n        \"num_unique_values\": 5,\n        \"samples\": [\n          35,\n          34\n        ],\n        \"semantic_type\": \"\",\n        \"description\": \"\"\n      }\n    },\n    {\n      \"column\": \"estimated_salary\",\n      \"properties\": {\n        \"dtype\": \"number\",\n        \"std\": 32275,\n        \"min\": 22000,\n        \"max\": 112000,\n        \"num_unique_values\": 5,\n        \"samples\": [\n          22000,\n          112000\n        ],\n        \"semantic_type\": \"\",\n        \"description\": \"\"\n      }\n    },\n    {\n      \"column\": \"purchased\",\n      \"properties\": {\n        \"dtype\": \"number\",\n        \"std\": 0,\n        \"min\": 0,\n        \"max\": 1,\n        \"num_unique_values\": 2,\n        \"samples\": [\n          1,\n          0\n        ],\n        \"semantic_type\": \"\",\n        \"description\": \"\"\n      }\n    }\n  ]\n}"
            }
          },
          "metadata": {},
          "execution_count": 23
        }
      ],
      "source": [
        "# Step 1: Import the data from the \"social_network_ads.csv\" file and store it in a variable 'df'\n",
        "df=pd.read_csv('/content/social_network_ads.csv')\n",
        "\n",
        "# Step 2: Display the number of rows and columns in the dataset\n",
        "df.shape\n",
        "\n",
        "# Step 3: Display the first few rows of the dataset to get an overview\n",
        "df.sample(5)"
      ]
    },
    {
      "cell_type": "code",
      "execution_count": 24,
      "id": "a3e1a88a-47f6-4e00-96cc-8214fdf027fc",
      "metadata": {
        "colab": {
          "base_uri": "https://localhost:8080/",
          "height": 241
        },
        "id": "a3e1a88a-47f6-4e00-96cc-8214fdf027fc",
        "outputId": "9d571b10-64a9-4aa0-bf6b-91b83bb8bbfd"
      },
      "outputs": [
        {
          "output_type": "execute_result",
          "data": {
            "text/plain": [
              "user_id             0\n",
              "gender              0\n",
              "age                 0\n",
              "estimated_salary    0\n",
              "purchased           0\n",
              "dtype: int64"
            ],
            "text/html": [
              "<div>\n",
              "<style scoped>\n",
              "    .dataframe tbody tr th:only-of-type {\n",
              "        vertical-align: middle;\n",
              "    }\n",
              "\n",
              "    .dataframe tbody tr th {\n",
              "        vertical-align: top;\n",
              "    }\n",
              "\n",
              "    .dataframe thead th {\n",
              "        text-align: right;\n",
              "    }\n",
              "</style>\n",
              "<table border=\"1\" class=\"dataframe\">\n",
              "  <thead>\n",
              "    <tr style=\"text-align: right;\">\n",
              "      <th></th>\n",
              "      <th>0</th>\n",
              "    </tr>\n",
              "  </thead>\n",
              "  <tbody>\n",
              "    <tr>\n",
              "      <th>user_id</th>\n",
              "      <td>0</td>\n",
              "    </tr>\n",
              "    <tr>\n",
              "      <th>gender</th>\n",
              "      <td>0</td>\n",
              "    </tr>\n",
              "    <tr>\n",
              "      <th>age</th>\n",
              "      <td>0</td>\n",
              "    </tr>\n",
              "    <tr>\n",
              "      <th>estimated_salary</th>\n",
              "      <td>0</td>\n",
              "    </tr>\n",
              "    <tr>\n",
              "      <th>purchased</th>\n",
              "      <td>0</td>\n",
              "    </tr>\n",
              "  </tbody>\n",
              "</table>\n",
              "</div><br><label><b>dtype:</b> int64</label>"
            ]
          },
          "metadata": {},
          "execution_count": 24
        }
      ],
      "source": [
        "# Step 4: Check for any missing values in the dataset and handle them appropriately\n",
        "df.isnull().sum()"
      ]
    },
    {
      "cell_type": "code",
      "execution_count": 25,
      "id": "ac203aa4-bb03-4a81-afbc-12f06f520c4d",
      "metadata": {
        "colab": {
          "base_uri": "https://localhost:8080/",
          "height": 466
        },
        "id": "ac203aa4-bb03-4a81-afbc-12f06f520c4d",
        "outputId": "fda0f71c-4c51-49fa-f145-8c676ea99734"
      },
      "outputs": [
        {
          "output_type": "execute_result",
          "data": {
            "text/plain": [
              "<Axes: xlabel='age', ylabel='estimated_salary'>"
            ]
          },
          "metadata": {},
          "execution_count": 25
        },
        {
          "output_type": "display_data",
          "data": {
            "text/plain": [
              "<Figure size 640x480 with 1 Axes>"
            ],
            "image/png": "[encoded data removed]"
          },
          "metadata": {}
        }
      ],
      "source": [
        "# Step 5: Visualize the distribution of users' age and estimated salary using scatter plots\n",
        "sns.scatterplot(x='age',y='estimated_salary',data=df)"
      ]
    },
    {
      "cell_type": "markdown",
      "id": "851a5137-2c93-4b8a-a022-917af18c76d2",
      "metadata": {
        "id": "851a5137-2c93-4b8a-a022-917af18c76d2"
      },
      "source": [
        "### Task 2: Model Training Using Logistic Regression\n",
        "\n",
        "1. Encode the `gender` column (Male as 0 and Female as 1).\n",
        "2. Select the features `(age, estimated_salary, gender)` and the target variable `(purchased)` for modeling.\n",
        "3. Split the data into training and test sets with a test size of 30%.\n",
        "4. Initialize and train a Logistic Regression model using the training data.\n",
        "5. Print the model's coefficients and intercept."
      ]
    },
    {
      "cell_type": "code",
      "execution_count": 26,
      "id": "2301a008-29ad-4e96-af4f-551aca08d634",
      "metadata": {
        "id": "2301a008-29ad-4e96-af4f-551aca08d634"
      },
      "outputs": [],
      "source": [
        "# Step 1: Drop rows with missing values and encode the gender column (Male as 0 and Female as 1)\n",
        "df.dropna(inplace=True)\n",
        "df['gender']=df['gender'].map({'Male':0,'Female':1})\n",
        "\n",
        "\n",
        "# Step 2: Select the features and target variable for modeling\n",
        "X=df[['gender', 'age' ,'estimated_salary']]\n",
        "y=df['purchased']\n",
        "\n",
        "# Step 3: Split the data into training and test sets with a test size of 30%\n",
        "X_train,X_test,y_train,y_test=train_test_split(X,y,test_size=0.3,random_state=42)"
      ]
    },
    {
      "cell_type": "code",
      "execution_count": 27,
      "id": "cef018a3-fed9-4b0e-ae06-7b6927279197",
      "metadata": {
        "colab": {
          "base_uri": "https://localhost:8080/"
        },
        "id": "cef018a3-fed9-4b0e-ae06-7b6927279197",
        "outputId": "ee9b0936-463d-47bb-8b58-85b09e9692e6"
      },
      "outputs": [
        {
          "output_type": "stream",
          "name": "stdout",
          "text": [
            "Model coefficients: [[-2.49140875e-01  1.99914592e-01  3.33049172e-05]]\n",
            "Model intercept: [-10.88919902]\n"
          ]
        }
      ],
      "source": [
        "# Step 4: Initialize and train a Logistic Regression model using the training data\n",
        "model=LogisticRegression()\n",
        "model.fit(X_train,y_train)\n",
        "# Step 5: Print the model's coefficients and intercept\n",
        "print('Model coefficients:', model.coef_)\n",
        "print('Model intercept:', model.intercept_)"
      ]
    },
    {
      "cell_type": "markdown",
      "id": "44f6603f-fbfa-41f4-a877-ae7adff1dc95",
      "metadata": {
        "id": "44f6603f-fbfa-41f4-a877-ae7adff1dc95"
      },
      "source": [
        "### Task 3: Model Evaluation\n",
        "\n",
        "1. Make predictions on the test set using the trained model.\n",
        "2. Evaluate the model using a classification report, including precision, recall, and accuracy metrics."
      ]
    },
    {
      "cell_type": "code",
      "execution_count": 31,
      "id": "18b6dedc-3751-45f1-b3b5-8b391c9e8c2e",
      "metadata": {
        "colab": {
          "base_uri": "https://localhost:8080/"
        },
        "id": "18b6dedc-3751-45f1-b3b5-8b391c9e8c2e",
        "outputId": "e1b43eaf-1e09-4ef5-e5c2-9e3375b84d77"
      },
      "outputs": [
        {
          "output_type": "stream",
          "name": "stdout",
          "text": [
            "              precision    recall  f1-score   support\n",
            "\n",
            "           0       0.83      0.97      0.89        73\n",
            "           1       0.94      0.68      0.79        47\n",
            "\n",
            "    accuracy                           0.86       120\n",
            "   macro avg       0.88      0.83      0.84       120\n",
            "weighted avg       0.87      0.86      0.85       120\n",
            "\n"
          ]
        }
      ],
      "source": [
        "# Step 1: Make predictions on the test set using the trained model\n",
        "model.predict(X_test)\n",
        "\n",
        "# Step 2: Evaluate the model using a classification report, including precision, recall, and accuracy metrics\n",
        "from sklearn.metrics import classification_report\n",
        "print(classification_report(y_test,model.predict(X_test)))"
      ]
    },
    {
      "cell_type": "code",
      "metadata": {
        "colab": {
          "base_uri": "https://localhost:8080/"
        },
        "id": "17409405",
        "outputId": "bba1e905-b851-4e31-bf01-aa0d2a4a337b"
      },
      "source": [
        "# Step 1: Make predictions on the test set using the trained model\n",
        "y_pred = model.predict(X_test)\n",
        "\n",
        "# Step 2: Evaluate the model using a classification report, including precision, recall, and accuracy metrics\n",
        "print(classification_report(y_test, y_pred))"
      ],
      "id": "17409405",
      "execution_count": 29,
      "outputs": [
        {
          "output_type": "stream",
          "name": "stdout",
          "text": [
            "              precision    recall  f1-score   support\n",
            "\n",
            "           0       0.83      0.97      0.89        73\n",
            "           1       0.94      0.68      0.79        47\n",
            "\n",
            "    accuracy                           0.86       120\n",
            "   macro avg       0.88      0.83      0.84       120\n",
            "weighted avg       0.87      0.86      0.85       120\n",
            "\n"
          ]
        }
      ]
    }
  ],
  "metadata": {
    "kernelspec": {
      "display_name": "Python 3 (ipykernel)",
      "language": "python",
      "name": "python3"
    },
    "language_info": {
      "codemirror_mode": {
        "name": "ipython",
        "version": 3
      },
      "file_extension": ".py",
      "mimetype": "text/x-python",
      "name": "python",
      "nbconvert_exporter": "python",
      "pygments_lexer": "ipython3",
      "version": "3.10.11"
    },
    "colab": {
      "provenance": []
    }
  },
  "nbformat": 4,
  "nbformat_minor": 5
}