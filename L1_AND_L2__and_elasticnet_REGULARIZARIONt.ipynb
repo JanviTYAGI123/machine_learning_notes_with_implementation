{
  "cells": [
    {
      "cell_type": "markdown",
      "id": "9f3ff33c-6de3-4403-a484-bcfa23016ac5",
      "metadata": {
        "id": "9f3ff33c-6de3-4403-a484-bcfa23016ac5"
      },
      "source": [
        "### Problem Statement\n",
        "\n",
        "You are a data scientist / AI engineer at a healthcare consulting firm. You have been provided with a dataset named **`\"patient_health_data.csv\"`**, which includes records of various health indicators for a group of patients. The dataset comprises the following columns:\n",
        "\n",
        "- `age:` The age of the patient.\n",
        "- `bmi:` Body Mass Index of the patient.\n",
        "- `blood_pressure:` The blood pressure of the patient.\n",
        "- `cholesterol:` Cholesterol levels of the patient.\n",
        "- `glucose:` Glucose levels of the patient.\n",
        "- `insulin:` Insulin levels of the patient.\n",
        "- `heart_rate:` Heart rate of the patient.\n",
        "- `activity_level:` Activity level of the patient.\n",
        "- `diet_quality:` Quality of diet of the patient.\n",
        "- `smoking_status:` Whether the patient smokes (Yes or No).\n",
        "- `alcohol_intake:` The amount of alcohol intake by the patient.\n",
        "- `health_risk_score:` A composite score representing the overall health risk of a patient.\n",
        "\n",
        "Your task is to use this dataset to build a linear regression model to predict the health risk score based on the given predictor variables. Additionally, you will use L1 (Lasso) and L2 (Ridge) regularization techniques to improve the model's performance."
      ]
    },
    {
      "cell_type": "markdown",
      "id": "e1eac6f0-96bf-499a-94c1-5c16b54373bb",
      "metadata": {
        "id": "e1eac6f0-96bf-499a-94c1-5c16b54373bb"
      },
      "source": [
        "**Import Necessary Libraries**"
      ]
    },
    {
      "cell_type": "code",
      "execution_count": 2,
      "id": "2fd337fd-ceb1-4266-b487-2015d3b47876",
      "metadata": {
        "id": "2fd337fd-ceb1-4266-b487-2015d3b47876"
      },
      "outputs": [],
      "source": [
        "# Import necessary libraries\n",
        "import numpy as np\n",
        "import pandas as pd\n",
        "import matplotlib.pyplot as plt\n",
        "import seaborn as sns\n",
        "from sklearn.model_selection import train_test_split\n",
        "from sklearn.linear_model import LinearRegression, Lasso, Ridge\n",
        "from sklearn.metrics import r2_score"
      ]
    },
    {
      "cell_type": "markdown",
      "id": "33d9a812-9dfb-4323-bc42-04a1fba1b73d",
      "metadata": {
        "id": "33d9a812-9dfb-4323-bc42-04a1fba1b73d"
      },
      "source": [
        "### Task 1: Data Preparation and Exploration\n",
        "\n",
        "1. Import the data from the **`\"patient_health_data.csv\"`** file and store it in a variable df.\n",
        "2. Display the number of rows and columns in the dataset.\n",
        "3. Display the first few rows of the dataset to get an overview.\n",
        "4. Check for any missing values in the dataset and handle them appropriately.\n",
        "5. Encode the categorical variable `'smoking_status'` by converting 'Yes' to 1 and 'No' to 0."
      ]
    },
    {
      "cell_type": "code",
      "execution_count": 25,
      "id": "f9ec42ac-a645-4d39-a809-acfbed5d30fe",
      "metadata": {
        "colab": {
          "base_uri": "https://localhost:8080/",
          "height": 206
        },
        "id": "f9ec42ac-a645-4d39-a809-acfbed5d30fe",
        "outputId": "e5f653cc-c4d9-4e71-9a05-ba0fd6cf46b3"
      },
      "outputs": [
        {
          "output_type": "display_data",
          "data": {
            "text/plain": [
              "   age        bmi  blood_pressure  cholesterol     glucose    insulin  \\\n",
              "0   58  24.865215      122.347094   165.730375  149.289441  22.306844   \n",
              "1   71  19.103168      136.852028   260.610781  158.584646  13.869817   \n",
              "2   48  22.316562      137.592457   177.342582  178.760166  22.849816   \n",
              "3   34  22.196893      153.164775   234.594764  136.351714  15.140336   \n",
              "4   62  29.837173       92.768973   276.106498  158.753516  17.228576   \n",
              "\n",
              "   heart_rate  activity_level  diet_quality smoking_status  alcohol_intake  \\\n",
              "0   75.866391        1.180237      7.675409             No        0.824123   \n",
              "1   69.481114        7.634622      8.933057             No        0.852910   \n",
              "2   69.386962        7.917398      3.501119            Yes        4.740542   \n",
              "3   95.348387        3.192910      2.745585             No        2.226231   \n",
              "4   77.680975        7.044026      8.918348             No        3.944011   \n",
              "\n",
              "   health_risk_score  \n",
              "0         150.547752  \n",
              "1         160.320350  \n",
              "2         187.487398  \n",
              "3         148.773138  \n",
              "4         170.609655  "
            ],
            "text/html": [
              "\n",
              "  <div id=\"df-ddd33157-659e-4ebf-836a-9c52486a0a79\" class=\"colab-df-container\">\n",
              "    <div>\n",
              "<style scoped>\n",
              "    .dataframe tbody tr th:only-of-type {\n",
              "        vertical-align: middle;\n",
              "    }\n",
              "\n",
              "    .dataframe tbody tr th {\n",
              "        vertical-align: top;\n",
              "    }\n",
              "\n",
              "    .dataframe thead th {\n",
              "        text-align: right;\n",
              "    }\n",
              "</style>\n",
              "<table border=\"1\" class=\"dataframe\">\n",
              "  <thead>\n",
              "    <tr style=\"text-align: right;\">\n",
              "      <th></th>\n",
              "      <th>age</th>\n",
              "      <th>bmi</th>\n",
              "      <th>blood_pressure</th>\n",
              "      <th>cholesterol</th>\n",
              "      <th>glucose</th>\n",
              "      <th>insulin</th>\n",
              "      <th>heart_rate</th>\n",
              "      <th>activity_level</th>\n",
              "      <th>diet_quality</th>\n",
              "      <th>smoking_status</th>\n",
              "      <th>alcohol_intake</th>\n",
              "      <th>health_risk_score</th>\n",
              "    </tr>\n",
              "  </thead>\n",
              "  <tbody>\n",
              "    <tr>\n",
              "      <th>0</th>\n",
              "      <td>58</td>\n",
              "      <td>24.865215</td>\n",
              "      <td>122.347094</td>\n",
              "      <td>165.730375</td>\n",
              "      <td>149.289441</td>\n",
              "      <td>22.306844</td>\n",
              "      <td>75.866391</td>\n",
              "      <td>1.180237</td>\n",
              "      <td>7.675409</td>\n",
              "      <td>No</td>\n",
              "      <td>0.824123</td>\n",
              "      <td>150.547752</td>\n",
              "    </tr>\n",
              "    <tr>\n",
              "      <th>1</th>\n",
              "      <td>71</td>\n",
              "      <td>19.103168</td>\n",
              "      <td>136.852028</td>\n",
              "      <td>260.610781</td>\n",
              "      <td>158.584646</td>\n",
              "      <td>13.869817</td>\n",
              "      <td>69.481114</td>\n",
              "      <td>7.634622</td>\n",
              "      <td>8.933057</td>\n",
              "      <td>No</td>\n",
              "      <td>0.852910</td>\n",
              "      <td>160.320350</td>\n",
              "    </tr>\n",
              "    <tr>\n",
              "      <th>2</th>\n",
              "      <td>48</td>\n",
              "      <td>22.316562</td>\n",
              "      <td>137.592457</td>\n",
              "      <td>177.342582</td>\n",
              "      <td>178.760166</td>\n",
              "      <td>22.849816</td>\n",
              "      <td>69.386962</td>\n",
              "      <td>7.917398</td>\n",
              "      <td>3.501119</td>\n",
              "      <td>Yes</td>\n",
              "      <td>4.740542</td>\n",
              "      <td>187.487398</td>\n",
              "    </tr>\n",
              "    <tr>\n",
              "      <th>3</th>\n",
              "      <td>34</td>\n",
              "      <td>22.196893</td>\n",
              "      <td>153.164775</td>\n",
              "      <td>234.594764</td>\n",
              "      <td>136.351714</td>\n",
              "      <td>15.140336</td>\n",
              "      <td>95.348387</td>\n",
              "      <td>3.192910</td>\n",
              "      <td>2.745585</td>\n",
              "      <td>No</td>\n",
              "      <td>2.226231</td>\n",
              "      <td>148.773138</td>\n",
              "    </tr>\n",
              "    <tr>\n",
              "      <th>4</th>\n",
              "      <td>62</td>\n",
              "      <td>29.837173</td>\n",
              "      <td>92.768973</td>\n",
              "      <td>276.106498</td>\n",
              "      <td>158.753516</td>\n",
              "      <td>17.228576</td>\n",
              "      <td>77.680975</td>\n",
              "      <td>7.044026</td>\n",
              "      <td>8.918348</td>\n",
              "      <td>No</td>\n",
              "      <td>3.944011</td>\n",
              "      <td>170.609655</td>\n",
              "    </tr>\n",
              "  </tbody>\n",
              "</table>\n",
              "</div>\n",
              "    <div class=\"colab-df-buttons\">\n",
              "\n",
              "  <div class=\"colab-df-container\">\n",
              "    <button class=\"colab-df-convert\" onclick=\"convertToInteractive('df-ddd33157-659e-4ebf-836a-9c52486a0a79')\"\n",
              "            title=\"Convert this dataframe to an interactive table.\"\n",
              "            style=\"display:none;\">\n",
              "\n",
              "  <svg xmlns=\"http://www.w3.org/2000/svg\" height=\"24px\" viewBox=\"0 -960 960 960\">\n",
              "    <path d=\"M120-120v-720h720v720H120Zm60-500h600v-160H180v160Zm220 220h160v-160H400v160Zm0 220h160v-160H400v160ZM180-400h160v-160H180v160Zm440 0h160v-160H620v160ZM180-180h160v-160H180v160Zm440 0h160v-160H620v160Z\"/>\n",
              "  </svg>\n",
              "    </button>\n",
              "\n",
              "  <style>\n",
              "    .colab-df-container {\n",
              "      display:flex;\n",
              "      gap: 12px;\n",
              "    }\n",
              "\n",
              "    .colab-df-convert {\n",
              "      background-color: #E8F0FE;\n",
              "      border: none;\n",
              "      border-radius: 50%;\n",
              "      cursor: pointer;\n",
              "      display: none;\n",
              "      fill: #1967D2;\n",
              "      height: 32px;\n",
              "      padding: 0 0 0 0;\n",
              "      width: 32px;\n",
              "    }\n",
              "\n",
              "    .colab-df-convert:hover {\n",
              "      background-color: #E2EBFA;\n",
              "      box-shadow: 0px 1px 2px rgba(60, 64, 67, 0.3), 0px 1px 3px 1px rgba(60, 64, 67, 0.15);\n",
              "      fill: #174EA6;\n",
              "    }\n",
              "\n",
              "    .colab-df-buttons div {\n",
              "      margin-bottom: 4px;\n",
              "    }\n",
              "\n",
              "    [theme=dark] .colab-df-convert {\n",
              "      background-color: #3B4455;\n",
              "      fill: #D2E3FC;\n",
              "    }\n",
              "\n",
              "    [theme=dark] .colab-df-convert:hover {\n",
              "      background-color: #434B5C;\n",
              "      box-shadow: 0px 1px 3px 1px rgba(0, 0, 0, 0.15);\n",
              "      filter: drop-shadow(0px 1px 2px rgba(0, 0, 0, 0.3));\n",
              "      fill: #FFFFFF;\n",
              "    }\n",
              "  </style>\n",
              "\n",
              "    <script>\n",
              "      const buttonEl =\n",
              "        document.querySelector('#df-ddd33157-659e-4ebf-836a-9c52486a0a79 button.colab-df-convert');\n",
              "      buttonEl.style.display =\n",
              "        google.colab.kernel.accessAllowed ? 'block' : 'none';\n",
              "\n",
              "      async function convertToInteractive(key) {\n",
              "        const element = document.querySelector('#df-ddd33157-659e-4ebf-836a-9c52486a0a79');\n",
              "        const dataTable =\n",
              "          await google.colab.kernel.invokeFunction('convertToInteractive',\n",
              "                                                    [key], {});\n",
              "        if (!dataTable) return;\n",
              "\n",
              "        const docLinkHtml = 'Like what you see? Visit the ' +\n",
              "          '<a target=\"_blank\" href=https://colab.research.google.com/notebooks/data_table.ipynb>data table notebook</a>'\n",
              "          + ' to learn more about interactive tables.';\n",
              "        element.innerHTML = '';\n",
              "        dataTable['output_type'] = 'display_data';\n",
              "        await google.colab.output.renderOutput(dataTable, element);\n",
              "        const docLink = document.createElement('div');\n",
              "        docLink.innerHTML = docLinkHtml;\n",
              "        element.appendChild(docLink);\n",
              "      }\n",
              "    </script>\n",
              "  </div>\n",
              "\n",
              "\n",
              "    <div id=\"df-a6aaf373-8acf-4c8d-ab62-cd3e0cf24de6\">\n",
              "      <button class=\"colab-df-quickchart\" onclick=\"quickchart('df-a6aaf373-8acf-4c8d-ab62-cd3e0cf24de6')\"\n",
              "                title=\"Suggest charts\"\n",
              "                style=\"display:none;\">\n",
              "\n",
              "<svg xmlns=\"http://www.w3.org/2000/svg\" height=\"24px\"viewBox=\"0 0 24 24\"\n",
              "     width=\"24px\">\n",
              "    <g>\n",
              "        <path d=\"M19 3H5c-1.1 0-2 .9-2 2v14c0 1.1.9 2 2 2h14c1.1 0 2-.9 2-2V5c0-1.1-.9-2-2-2zM9 17H7v-7h2v7zm4 0h-2V7h2v10zm4 0h-2v-4h2v4z\"/>\n",
              "    </g>\n",
              "</svg>\n",
              "      </button>\n",
              "\n",
              "<style>\n",
              "  .colab-df-quickchart {\n",
              "      --bg-color: #E8F0FE;\n",
              "      --fill-color: #1967D2;\n",
              "      --hover-bg-color: #E2EBFA;\n",
              "      --hover-fill-color: #174EA6;\n",
              "      --disabled-fill-color: #AAA;\n",
              "      --disabled-bg-color: #DDD;\n",
              "  }\n",
              "\n",
              "  [theme=dark] .colab-df-quickchart {\n",
              "      --bg-color: #3B4455;\n",
              "      --fill-color: #D2E3FC;\n",
              "      --hover-bg-color: #434B5C;\n",
              "      --hover-fill-color: #FFFFFF;\n",
              "      --disabled-bg-color: #3B4455;\n",
              "      --disabled-fill-color: #666;\n",
              "  }\n",
              "\n",
              "  .colab-df-quickchart {\n",
              "    background-color: var(--bg-color);\n",
              "    border: none;\n",
              "    border-radius: 50%;\n",
              "    cursor: pointer;\n",
              "    display: none;\n",
              "    fill: var(--fill-color);\n",
              "    height: 32px;\n",
              "    padding: 0;\n",
              "    width: 32px;\n",
              "  }\n",
              "\n",
              "  .colab-df-quickchart:hover {\n",
              "    background-color: var(--hover-bg-color);\n",
              "    box-shadow: 0 1px 2px rgba(60, 64, 67, 0.3), 0 1px 3px 1px rgba(60, 64, 67, 0.15);\n",
              "    fill: var(--button-hover-fill-color);\n",
              "  }\n",
              "\n",
              "  .colab-df-quickchart-complete:disabled,\n",
              "  .colab-df-quickchart-complete:disabled:hover {\n",
              "    background-color: var(--disabled-bg-color);\n",
              "    fill: var(--disabled-fill-color);\n",
              "    box-shadow: none;\n",
              "  }\n",
              "\n",
              "  .colab-df-spinner {\n",
              "    border: 2px solid var(--fill-color);\n",
              "    border-color: transparent;\n",
              "    border-bottom-color: var(--fill-color);\n",
              "    animation:\n",
              "      spin 1s steps(1) infinite;\n",
              "  }\n",
              "\n",
              "  @keyframes spin {\n",
              "    0% {\n",
              "      border-color: transparent;\n",
              "      border-bottom-color: var(--fill-color);\n",
              "      border-left-color: var(--fill-color);\n",
              "    }\n",
              "    20% {\n",
              "      border-color: transparent;\n",
              "      border-left-color: var(--fill-color);\n",
              "      border-top-color: var(--fill-color);\n",
              "    }\n",
              "    30% {\n",
              "      border-color: transparent;\n",
              "      border-left-color: var(--fill-color);\n",
              "      border-top-color: var(--fill-color);\n",
              "      border-right-color: var(--fill-color);\n",
              "    }\n",
              "    40% {\n",
              "      border-color: transparent;\n",
              "      border-right-color: var(--fill-color);\n",
              "      border-top-color: var(--fill-color);\n",
              "    }\n",
              "    60% {\n",
              "      border-color: transparent;\n",
              "      border-right-color: var(--fill-color);\n",
              "    }\n",
              "    80% {\n",
              "      border-color: transparent;\n",
              "      border-right-color: var(--fill-color);\n",
              "      border-bottom-color: var(--fill-color);\n",
              "    }\n",
              "    90% {\n",
              "      border-color: transparent;\n",
              "      border-bottom-color: var(--fill-color);\n",
              "    }\n",
              "  }\n",
              "</style>\n",
              "\n",
              "      <script>\n",
              "        async function quickchart(key) {\n",
              "          const quickchartButtonEl =\n",
              "            document.querySelector('#' + key + ' button');\n",
              "          quickchartButtonEl.disabled = true;  // To prevent multiple clicks.\n",
              "          quickchartButtonEl.classList.add('colab-df-spinner');\n",
              "          try {\n",
              "            const charts = await google.colab.kernel.invokeFunction(\n",
              "                'suggestCharts', [key], {});\n",
              "          } catch (error) {\n",
              "            console.error('Error during call to suggestCharts:', error);\n",
              "          }\n",
              "          quickchartButtonEl.classList.remove('colab-df-spinner');\n",
              "          quickchartButtonEl.classList.add('colab-df-quickchart-complete');\n",
              "        }\n",
              "        (() => {\n",
              "          let quickchartButtonEl =\n",
              "            document.querySelector('#df-a6aaf373-8acf-4c8d-ab62-cd3e0cf24de6 button');\n",
              "          quickchartButtonEl.style.display =\n",
              "            google.colab.kernel.accessAllowed ? 'block' : 'none';\n",
              "        })();\n",
              "      </script>\n",
              "    </div>\n",
              "\n",
              "    </div>\n",
              "  </div>\n"
            ],
            "application/vnd.google.colaboratory.intrinsic+json": {
              "type": "dataframe",
              "summary": "{\n  \"name\": \"display(df\",\n  \"rows\": 5,\n  \"fields\": [\n    {\n      \"column\": \"age\",\n      \"properties\": {\n        \"dtype\": \"number\",\n        \"std\": 14,\n        \"min\": 34,\n        \"max\": 71,\n        \"num_unique_values\": 5,\n        \"samples\": [\n          71,\n          62,\n          48\n        ],\n        \"semantic_type\": \"\",\n        \"description\": \"\"\n      }\n    },\n    {\n      \"column\": \"bmi\",\n      \"properties\": {\n        \"dtype\": \"number\",\n        \"std\": 4.009992394492959,\n        \"min\": 19.1031682,\n        \"max\": 29.83717264,\n        \"num_unique_values\": 5,\n        \"samples\": [\n          19.1031682,\n          29.83717264,\n          22.31656204\n        ],\n        \"semantic_type\": \"\",\n        \"description\": \"\"\n      }\n    },\n    {\n      \"column\": \"blood_pressure\",\n      \"properties\": {\n        \"dtype\": \"number\",\n        \"std\": 22.777920790784716,\n        \"min\": 92.76897294,\n        \"max\": 153.1647755,\n        \"num_unique_values\": 5,\n        \"samples\": [\n          136.8520284,\n          92.76897294,\n          137.5924575\n        ],\n        \"semantic_type\": \"\",\n        \"description\": \"\"\n      }\n    },\n    {\n      \"column\": \"cholesterol\",\n      \"properties\": {\n        \"dtype\": \"number\",\n        \"std\": 49.32961495357281,\n        \"min\": 165.730375,\n        \"max\": 276.1064979,\n        \"num_unique_values\": 5,\n        \"samples\": [\n          260.6107809,\n          276.1064979,\n          177.3425818\n        ],\n        \"semantic_type\": \"\",\n        \"description\": \"\"\n      }\n    },\n    {\n      \"column\": \"glucose\",\n      \"properties\": {\n        \"dtype\": \"number\",\n        \"std\": 15.514259470130485,\n        \"min\": 136.3517142,\n        \"max\": 178.760166,\n        \"num_unique_values\": 5,\n        \"samples\": [\n          158.5846464,\n          158.7535164,\n          178.760166\n        ],\n        \"semantic_type\": \"\",\n        \"description\": \"\"\n      }\n    },\n    {\n      \"column\": \"insulin\",\n      \"properties\": {\n        \"dtype\": \"number\",\n        \"std\": 4.108265391238273,\n        \"min\": 13.86981747,\n        \"max\": 22.84981555,\n        \"num_unique_values\": 5,\n        \"samples\": [\n          13.86981747,\n          17.22857623,\n          22.84981555\n        ],\n        \"semantic_type\": \"\",\n        \"description\": \"\"\n      }\n    },\n    {\n      \"column\": \"heart_rate\",\n      \"properties\": {\n        \"dtype\": \"number\",\n        \"std\": 10.62280967352304,\n        \"min\": 69.38696153,\n        \"max\": 95.34838679,\n        \"num_unique_values\": 5,\n        \"samples\": [\n          69.48111428,\n          77.68097495,\n          69.38696153\n        ],\n        \"semantic_type\": \"\",\n        \"description\": \"\"\n      }\n    },\n    {\n      \"column\": \"activity_level\",\n      \"properties\": {\n        \"dtype\": \"number\",\n        \"std\": 3.029484425517857,\n        \"min\": 1.180237203,\n        \"max\": 7.917398243,\n        \"num_unique_values\": 5,\n        \"samples\": [\n          7.634622025,\n          7.044025993,\n          7.917398243\n        ],\n        \"semantic_type\": \"\",\n        \"description\": \"\"\n      }\n    },\n    {\n      \"column\": \"diet_quality\",\n      \"properties\": {\n        \"dtype\": \"number\",\n        \"std\": 3.005541827182808,\n        \"min\": 2.745584805,\n        \"max\": 8.933057017,\n        \"num_unique_values\": 5,\n        \"samples\": [\n          8.933057017,\n          8.918348373,\n          3.501118875\n        ],\n        \"semantic_type\": \"\",\n        \"description\": \"\"\n      }\n    },\n    {\n      \"column\": \"smoking_status\",\n      \"properties\": {\n        \"dtype\": \"category\",\n        \"num_unique_values\": 2,\n        \"samples\": [\n          \"Yes\",\n          \"No\"\n        ],\n        \"semantic_type\": \"\",\n        \"description\": \"\"\n      }\n    },\n    {\n      \"column\": \"alcohol_intake\",\n      \"properties\": {\n        \"dtype\": \"number\",\n        \"std\": 1.7818580259701429,\n        \"min\": 0.824123377,\n        \"max\": 4.740541601,\n        \"num_unique_values\": 5,\n        \"samples\": [\n          0.852909558,\n          3.94401132\n        ],\n        \"semantic_type\": \"\",\n        \"description\": \"\"\n      }\n    },\n    {\n      \"column\": \"health_risk_score\",\n      \"properties\": {\n        \"dtype\": \"number\",\n        \"std\": 15.974060763757196,\n        \"min\": 148.7731379,\n        \"max\": 187.4873981,\n        \"num_unique_values\": 5,\n        \"samples\": [\n          160.3203496,\n          170.6096546\n        ],\n        \"semantic_type\": \"\",\n        \"description\": \"\"\n      }\n    }\n  ]\n}"
            }
          },
          "metadata": {}
        }
      ],
      "source": [
        "# Step 1: Import the data from the \"patient_health_data.csv\" file and store it in a variable 'df'\n",
        "df=pd.read_csv('/content/patient_health_data.csv')\n",
        "\n",
        "# Step 2: Display the number of rows and columns in the dataset\n",
        "\n",
        "df.shape\n",
        "# Step 3: Display the first few rows of the dataset to get an overview\n",
        "display(df.head())"
      ]
    },
    {
      "cell_type": "code",
      "execution_count": 27,
      "id": "544ecea9-7860-4623-97ee-5218ee729282",
      "metadata": {
        "colab": {
          "base_uri": "https://localhost:8080/",
          "height": 460
        },
        "id": "544ecea9-7860-4623-97ee-5218ee729282",
        "outputId": "03e410f4-3c87-499a-d86a-21744b696d2d"
      },
      "outputs": [
        {
          "output_type": "execute_result",
          "data": {
            "text/plain": [
              "age                  0\n",
              "bmi                  0\n",
              "blood_pressure       0\n",
              "cholesterol          0\n",
              "glucose              0\n",
              "insulin              0\n",
              "heart_rate           0\n",
              "activity_level       0\n",
              "diet_quality         0\n",
              "smoking_status       0\n",
              "alcohol_intake       0\n",
              "health_risk_score    0\n",
              "dtype: int64"
            ],
            "text/html": [
              "<div>\n",
              "<style scoped>\n",
              "    .dataframe tbody tr th:only-of-type {\n",
              "        vertical-align: middle;\n",
              "    }\n",
              "\n",
              "    .dataframe tbody tr th {\n",
              "        vertical-align: top;\n",
              "    }\n",
              "\n",
              "    .dataframe thead th {\n",
              "        text-align: right;\n",
              "    }\n",
              "</style>\n",
              "<table border=\"1\" class=\"dataframe\">\n",
              "  <thead>\n",
              "    <tr style=\"text-align: right;\">\n",
              "      <th></th>\n",
              "      <th>0</th>\n",
              "    </tr>\n",
              "  </thead>\n",
              "  <tbody>\n",
              "    <tr>\n",
              "      <th>age</th>\n",
              "      <td>0</td>\n",
              "    </tr>\n",
              "    <tr>\n",
              "      <th>bmi</th>\n",
              "      <td>0</td>\n",
              "    </tr>\n",
              "    <tr>\n",
              "      <th>blood_pressure</th>\n",
              "      <td>0</td>\n",
              "    </tr>\n",
              "    <tr>\n",
              "      <th>cholesterol</th>\n",
              "      <td>0</td>\n",
              "    </tr>\n",
              "    <tr>\n",
              "      <th>glucose</th>\n",
              "      <td>0</td>\n",
              "    </tr>\n",
              "    <tr>\n",
              "      <th>insulin</th>\n",
              "      <td>0</td>\n",
              "    </tr>\n",
              "    <tr>\n",
              "      <th>heart_rate</th>\n",
              "      <td>0</td>\n",
              "    </tr>\n",
              "    <tr>\n",
              "      <th>activity_level</th>\n",
              "      <td>0</td>\n",
              "    </tr>\n",
              "    <tr>\n",
              "      <th>diet_quality</th>\n",
              "      <td>0</td>\n",
              "    </tr>\n",
              "    <tr>\n",
              "      <th>smoking_status</th>\n",
              "      <td>0</td>\n",
              "    </tr>\n",
              "    <tr>\n",
              "      <th>alcohol_intake</th>\n",
              "      <td>0</td>\n",
              "    </tr>\n",
              "    <tr>\n",
              "      <th>health_risk_score</th>\n",
              "      <td>0</td>\n",
              "    </tr>\n",
              "  </tbody>\n",
              "</table>\n",
              "</div><br><label><b>dtype:</b> int64</label>"
            ]
          },
          "metadata": {},
          "execution_count": 27
        }
      ],
      "source": [
        "# Step 4: Check for any missing values in the dataset and handle them appropriately\n",
        "df.isnull().sum()"
      ]
    },
    {
      "cell_type": "code",
      "execution_count": 28,
      "id": "f66339cd-ea78-443c-855c-9ebd9c936aa4",
      "metadata": {
        "id": "f66339cd-ea78-443c-855c-9ebd9c936aa4",
        "colab": {
          "base_uri": "https://localhost:8080/",
          "height": 296
        },
        "outputId": "d7d149e6-af32-4eb1-e5ad-47f1d4db7608"
      },
      "outputs": [
        {
          "output_type": "stream",
          "name": "stderr",
          "text": [
            "/tmp/ipython-input-3064761848.py:2: FutureWarning: Downcasting behavior in `replace` is deprecated and will be removed in a future version. To retain the old behavior, explicitly call `result.infer_objects(copy=False)`. To opt-in to the future behavior, set `pd.set_option('future.no_silent_downcasting', True)`\n",
            "  df['smoking_status'] = df['smoking_status'].str.strip().str.lower().replace({'yes': 1, 'no': 0})\n"
          ]
        },
        {
          "output_type": "display_data",
          "data": {
            "text/plain": [
              "0    0\n",
              "1    0\n",
              "2    1\n",
              "3    0\n",
              "4    0\n",
              "Name: smoking_status, dtype: int64"
            ],
            "text/html": [
              "<div>\n",
              "<style scoped>\n",
              "    .dataframe tbody tr th:only-of-type {\n",
              "        vertical-align: middle;\n",
              "    }\n",
              "\n",
              "    .dataframe tbody tr th {\n",
              "        vertical-align: top;\n",
              "    }\n",
              "\n",
              "    .dataframe thead th {\n",
              "        text-align: right;\n",
              "    }\n",
              "</style>\n",
              "<table border=\"1\" class=\"dataframe\">\n",
              "  <thead>\n",
              "    <tr style=\"text-align: right;\">\n",
              "      <th></th>\n",
              "      <th>smoking_status</th>\n",
              "    </tr>\n",
              "  </thead>\n",
              "  <tbody>\n",
              "    <tr>\n",
              "      <th>0</th>\n",
              "      <td>0</td>\n",
              "    </tr>\n",
              "    <tr>\n",
              "      <th>1</th>\n",
              "      <td>0</td>\n",
              "    </tr>\n",
              "    <tr>\n",
              "      <th>2</th>\n",
              "      <td>1</td>\n",
              "    </tr>\n",
              "    <tr>\n",
              "      <th>3</th>\n",
              "      <td>0</td>\n",
              "    </tr>\n",
              "    <tr>\n",
              "      <th>4</th>\n",
              "      <td>0</td>\n",
              "    </tr>\n",
              "  </tbody>\n",
              "</table>\n",
              "</div><br><label><b>dtype:</b> int64</label>"
            ]
          },
          "metadata": {}
        }
      ],
      "source": [
        "# Step 5: Encode the categorical variable 'smoking_status' by converting 'Yes' to 1 and 'No' to 0.\n",
        "df['smoking_status'] = df['smoking_status'].str.strip().str.lower().replace({'yes': 1, 'no': 0})\n",
        "display(df['smoking_status'].head())"
      ]
    },
    {
      "cell_type": "code",
      "source": [
        "df['smoking_status'].unique()"
      ],
      "metadata": {
        "colab": {
          "base_uri": "https://localhost:8080/"
        },
        "id": "N_mkre-r67vL",
        "outputId": "dd30366e-edc1-44d2-a3c2-438d873743a3"
      },
      "id": "N_mkre-r67vL",
      "execution_count": 29,
      "outputs": [
        {
          "output_type": "execute_result",
          "data": {
            "text/plain": [
              "array([0, 1])"
            ]
          },
          "metadata": {},
          "execution_count": 29
        }
      ]
    },
    {
      "cell_type": "markdown",
      "id": "f16b6366-41ba-4f54-a398-30b7d04fa741",
      "metadata": {
        "id": "f16b6366-41ba-4f54-a398-30b7d04fa741"
      },
      "source": [
        "### Task 2: Train Linear Regression Models\n",
        "\n",
        "1. Select the features and the target variable for modeling.\n",
        "2. Split the data into training and test sets with a test size of 25%.\n",
        "3. Initialize and train a Linear Regression model, and evaluate its performance using R-squared.\n",
        "4. Initialize and train a Lasso Regression model with various alpha values provided in a list: [0.01, 0.1, 1.0, 10.0], and evaluate its performance using R-squared.\n",
        "5. Initialize and train a Ridge Regression model with various alpha values provided in a list: [0.01, 0.1, 1.0, 10.0], and evaluate its performance using R-squared."
      ]
    },
    {
      "cell_type": "code",
      "execution_count": 22,
      "id": "10384638-ccbf-4ff0-a3f7-b1761f083aab",
      "metadata": {
        "id": "10384638-ccbf-4ff0-a3f7-b1761f083aab"
      },
      "outputs": [],
      "source": [
        "# Step 1: Select the features and target variable for modeling\n",
        "X = df.drop('health_risk_score', axis=1)\n",
        "y = df['health_risk_score']\n",
        "\n",
        "# Step 2: Split the data into training and test sets with a test size of 25%\n",
        "X_train, X_test, y_train, y_test = train_test_split(X, y, test_size=0.25, random_state=42)"
      ]
    },
    {
      "cell_type": "code",
      "execution_count": 23,
      "id": "d78f133c-a91c-4022-a29d-b56f83d3c76e",
      "metadata": {
        "id": "d78f133c-a91c-4022-a29d-b56f83d3c76e",
        "colab": {
          "base_uri": "https://localhost:8080/"
        },
        "outputId": "db1f3ce0-0274-42f2-91b4-ce58b4f560a6"
      },
      "outputs": [
        {
          "output_type": "stream",
          "name": "stdout",
          "text": [
            "Linear Regression R-squared: 0.764362090675749\n"
          ]
        }
      ],
      "source": [
        "# Step 3: Initialize and train a Linear Regression model, and evaluate its performance using R-squared\n",
        "lr_model = LinearRegression()\n",
        "lr_model.fit(X_train, y_train)\n",
        "lr_pred = lr_model.predict(X_test)\n",
        "lr_r2 = r2_score(y_test, lr_pred)\n",
        "print(f\"Linear Regression R-squared: {lr_r2}\")"
      ]
    },
    {
      "cell_type": "code",
      "execution_count": 24,
      "id": "9f4e756b-561b-4a42-b674-4d852482ea7c",
      "metadata": {
        "id": "9f4e756b-561b-4a42-b674-4d852482ea7c",
        "colab": {
          "base_uri": "https://localhost:8080/"
        },
        "outputId": "678bc0e9-dd81-4175-8ea2-ab62a1a25315"
      },
      "outputs": [
        {
          "output_type": "stream",
          "name": "stdout",
          "text": [
            "Lasso Regression (alpha=0.01) R-squared: 0.7645437646395714\n",
            "Lasso Regression (alpha=0.1) R-squared: 0.7660509914802164\n",
            "Lasso Regression (alpha=1.0) R-squared: 0.7819763683575137\n",
            "Lasso Regression (alpha=10.0) R-squared: 0.7873364302158369\n"
          ]
        }
      ],
      "source": [
        "# Step 4: Initialize and train a Lasso Regression model with various alpha values provided in a list, and evaluate its performance using R-squared\n",
        "lasso_alphas = [0.01, 0.1, 1.0, 10.0]\n",
        "for alpha in lasso_alphas:\n",
        "    lasso_model = Lasso(alpha=alpha)\n",
        "    lasso_model.fit(X_train, y_train)\n",
        "    lasso_pred = lasso_model.predict(X_test)\n",
        "    lasso_r2 = r2_score(y_test, lasso_pred)\n",
        "    print(f\"Lasso Regression (alpha={alpha}) R-squared: {lasso_r2}\")"
      ]
    },
    {
      "cell_type": "code",
      "execution_count": 26,
      "id": "45206af6-ea76-4947-abac-681008cb3857",
      "metadata": {
        "id": "45206af6-ea76-4947-abac-681008cb3857",
        "colab": {
          "base_uri": "https://localhost:8080/"
        },
        "outputId": "3104d20f-499e-4b86-b77b-1d66f5ae1e1f"
      },
      "outputs": [
        {
          "output_type": "stream",
          "name": "stdout",
          "text": [
            "Ridge Regression (alpha=0.01) R-squared: 0.764363158939054\n",
            "Ridge Regression (alpha=0.1) R-squared: 0.7643727707489341\n",
            "Ridge Regression (alpha=1.0) R-squared: 0.7644686367656156\n",
            "Ridge Regression (alpha=10.0) R-squared: 0.7654030812954534\n"
          ]
        }
      ],
      "source": [
        "# Step 5: Initialize and train a Ridge Regression model with various alpha values provided in a list, and evaluate its performance using R-squared\n",
        "ridge_alphas = [0.01, 0.1, 1.0, 10.0]\n",
        "for alpha in ridge_alphas:\n",
        "    ridge_model = Ridge(alpha=alpha)\n",
        "    ridge_model.fit(X_train, y_train)\n",
        "    ridge_pred = ridge_model.predict(X_test)\n",
        "    ridge_r2 = r2_score(y_test, ridge_pred)\n",
        "    print(f\"Ridge Regression (alpha={alpha}) R-squared: {ridge_r2}\")"
      ]
    },
    {
      "cell_type": "code",
      "source": [
        "#elastic regeression\n"
      ],
      "metadata": {
        "id": "EbLEDlAT8G7h"
      },
      "id": "EbLEDlAT8G7h",
      "execution_count": 30,
      "outputs": []
    },
    {
      "cell_type": "code",
      "source": [],
      "metadata": {
        "id": "tU-8Dtyv8LSP"
      },
      "id": "tU-8Dtyv8LSP",
      "execution_count": null,
      "outputs": []
    },
    {
      "cell_type": "code",
      "metadata": {
        "colab": {
          "base_uri": "https://localhost:8080/"
        },
        "id": "c50be03e",
        "outputId": "47f5089c-bf82-45b2-bf7c-41bff6050ef2"
      },
      "source": [
        "from sklearn.linear_model import ElasticNet\n",
        "\n",
        "# Initialize and train an Elastic Net Regression model with various alpha and l1_ratio values\n",
        "elastic_net_alphas = [0.01, 0.1, 1.0, 10.0]\n",
        "elastic_net_l1_ratios = [0.2, 0.5, 0.8]\n",
        "\n",
        "for alpha in elastic_net_alphas:\n",
        "    for l1_ratio in elastic_net_l1_ratios:\n",
        "        elastic_net_model = ElasticNet(alpha=alpha, l1_ratio=l1_ratio)\n",
        "        elastic_net_model.fit(X_train, y_train)\n",
        "        elastic_net_pred = elastic_net_model.predict(X_test)\n",
        "        elastic_net_r2 = r2_score(y_test, elastic_net_pred)\n",
        "        print(f\"Elastic Net Regression (alpha={alpha}, l1_ratio={l1_ratio}) R-squared: {elastic_net_r2}\")"
      ],
      "id": "c50be03e",
      "execution_count": 31,
      "outputs": [
        {
          "output_type": "stream",
          "name": "stdout",
          "text": [
            "Elastic Net Regression (alpha=0.01, l1_ratio=0.2) R-squared: 0.7645575791910162\n",
            "Elastic Net Regression (alpha=0.01, l1_ratio=0.5) R-squared: 0.7645525258365449\n",
            "Elastic Net Regression (alpha=0.01, l1_ratio=0.8) R-squared: 0.7645473216789129\n",
            "Elastic Net Regression (alpha=0.1, l1_ratio=0.2) R-squared: 0.7662415574125775\n",
            "Elastic Net Regression (alpha=0.1, l1_ratio=0.5) R-squared: 0.7661911479732026\n",
            "Elastic Net Regression (alpha=0.1, l1_ratio=0.8) R-squared: 0.7661182435598584\n",
            "Elastic Net Regression (alpha=1.0, l1_ratio=0.2) R-squared: 0.7781061715079659\n",
            "Elastic Net Regression (alpha=1.0, l1_ratio=0.5) R-squared: 0.7793019551765732\n",
            "Elastic Net Regression (alpha=1.0, l1_ratio=0.8) R-squared: 0.7807786923510525\n",
            "Elastic Net Regression (alpha=10.0, l1_ratio=0.2) R-squared: 0.7941512141138394\n",
            "Elastic Net Regression (alpha=10.0, l1_ratio=0.5) R-squared: 0.7915384948216033\n",
            "Elastic Net Regression (alpha=10.0, l1_ratio=0.8) R-squared: 0.7884079763157471\n"
          ]
        }
      ]
    },
    {
      "cell_type": "markdown",
      "source": [
        "Great question 🙌 Let’s break down **alpha** and **l1\\_ratio** in **Elastic Net** in simple terms.\n",
        "\n",
        "---\n",
        "\n",
        "### 🔑 Elastic Net Basics\n",
        "\n",
        "Elastic Net is a regression method that **combines**:\n",
        "\n",
        "* **Lasso (L1 regularization)** → pushes some coefficients to **zero** (feature selection)\n",
        "* **Ridge (L2 regularization)** → shrinks coefficients but doesn’t remove them\n",
        "\n",
        "So Elastic Net is a **mix** of Ridge and Lasso.\n",
        "\n",
        "---\n",
        "\n",
        "### ⚙️ Parameters\n",
        "\n",
        "#### 1. **alpha**\n",
        "\n",
        "* Controls the **overall strength** of regularization (both L1 & L2).\n",
        "* Higher `alpha` = **more shrinkage** = smaller coefficients = simpler model.\n",
        "* Lower `alpha` = less shrinkage = coefficients closer to ordinary linear regression.\n",
        "\n",
        "👉 Think of `alpha` as a **knob for how much penalty to apply**.\n",
        "\n",
        "* `alpha = 0` → ordinary least squares (no penalty).\n",
        "* Large `alpha` → coefficients get very small, maybe all close to zero.\n",
        "\n",
        "---\n",
        "\n",
        "#### 2. **l1\\_ratio**\n",
        "\n",
        "* Controls the **balance between L1 (Lasso) and L2 (Ridge)**.\n",
        "* Ranges between **0 and 1**:\n",
        "\n",
        "  * `l1_ratio = 0` → pure Ridge (only L2).\n",
        "  * `l1_ratio = 1` → pure Lasso (only L1).\n",
        "  * `0 < l1_ratio < 1` → mix of both (Elastic Net).\n",
        "\n",
        "👉 Example:\n",
        "\n",
        "* `l1_ratio = 0.3` → 30% Lasso + 70% Ridge.\n",
        "* `l1_ratio = 0.7` → 70% Lasso + 30% Ridge.\n",
        "\n",
        "---\n",
        "\n",
        "### ⚖️ Summary\n",
        "\n",
        "* **alpha** → how strong the penalty is (bigger = stronger).\n",
        "* **l1\\_ratio** → what proportion of that penalty is L1 vs L2.\n",
        "\n"
      ],
      "metadata": {
        "id": "wUhyug2q91se"
      },
      "id": "wUhyug2q91se"
    },
    {
      "cell_type": "code",
      "source": [],
      "metadata": {
        "id": "rwV_s-Yv93Eb"
      },
      "id": "rwV_s-Yv93Eb",
      "execution_count": null,
      "outputs": []
    }
  ],
  "metadata": {
    "kernelspec": {
      "display_name": "Python 3 (ipykernel)",
      "language": "python",
      "name": "python3"
    },
    "language_info": {
      "codemirror_mode": {
        "name": "ipython",
        "version": 3
      },
      "file_extension": ".py",
      "mimetype": "text/x-python",
      "name": "python",
      "nbconvert_exporter": "python",
      "pygments_lexer": "ipython3",
      "version": "3.10.11"
    },
    "colab": {
      "provenance": []
    }
  },
  "nbformat": 4,
  "nbformat_minor": 5
}